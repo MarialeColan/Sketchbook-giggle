{
 "cells": [
  {
   "cell_type": "code",
   "execution_count": null,
   "id": "c43e1b50",
   "metadata": {},
   "outputs": [],
   "source": []
  },
  {
   "cell_type": "markdown",
   "id": "67804360",
   "metadata": {},
   "source": [
    "# Python para economistas"
   ]
  },
  {
   "cell_type": "markdown",
   "id": "409dc269",
   "metadata": {},
   "source": [
    "#### 1. Actualizando Variables"
   ]
  },
  {
   "cell_type": "markdown",
   "id": "7ebe757b",
   "metadata": {},
   "source": [
    "En algunos casos sencillos queremos actualizar una variable, por ejemplo sumandole o restandole un valor a la variable original."
   ]
  },
  {
   "attachments": {
    "image.png": {
     "image/png": "[encoded data removed]"
    }
   },
   "cell_type": "markdown",
   "id": "4e859f59",
   "metadata": {},
   "source": [
    "![image.png](attachment:image.png)"
   ]
  },
  {
   "cell_type": "markdown",
   "id": "ca3a3289",
   "metadata": {},
   "source": [
    "Esto lo hacemos cuando el valor de la iteración pasada i0 no es de interés para el programador y simplemente se sobre escribe agregandole el valor que actualiza la variable. Esto ocurre frecuente por ejemplo cuando queremos que \"i\" rastree el numero de iteraciones que esta realizando un bucle."
   ]
  },
  {
   "cell_type": "code",
   "execution_count": 4,
   "id": "f54030c7",
   "metadata": {},
   "outputs": [
    {
     "name": "stdout",
     "output_type": "stream",
     "text": [
      "First value of i: 0\n",
      "Second value of i: 1\n",
      "Third value of i: 0\n"
     ]
    }
   ],
   "source": [
    "ii=0\n",
    "print('First value of i:', ii)\n",
    "ii += 1\n",
    "print('Second value of i:', ii)\n",
    "ii -= 1\n",
    "print('Third value of i:', ii)"
   ]
  },
  {
   "cell_type": "markdown",
   "id": "dcc16c93",
   "metadata": {},
   "source": [
    "#### 2. Loops definidos usando for"
   ]
  },
  {
   "cell_type": "markdown",
   "id": "045e62d7",
   "metadata": {},
   "source": [
    "Un bucle \"for\" se usa para iterar sobre una secuencia (que puede ser una lista, una tupla, un diccionario, o un conjunto). Esto se ejecuta con el comando  for. Con el bucle for podemos ejecutar un conjunto de declaraciones, una vez para cada elemento de una lista, tupla, conjunto, etc."
   ]
  },
  {
   "cell_type": "code",
   "execution_count": 5,
   "id": "f6132d2a",
   "metadata": {},
   "outputs": [
    {
     "name": "stdout",
     "output_type": "stream",
     "text": [
      "0\n",
      "1\n",
      "2\n",
      "3\n",
      "4\n",
      "5\n",
      "6\n",
      "7\n",
      "8\n",
      "9\n"
     ]
    }
   ],
   "source": [
    "for ii in range(10):\n",
    "    print(ii) # \"ii\" es la variable que va cambiando en la secuencia"
   ]
  },
  {
   "cell_type": "code",
   "execution_count": 6,
   "id": "7a0cbfd0",
   "metadata": {},
   "outputs": [
    {
     "name": "stdout",
     "output_type": "stream",
     "text": [
      "Número: 1\n",
      "Número: 2\n",
      "Número: 3\n",
      "Número: 4\n",
      "Número: 5\n",
      "Número: 6\n",
      "Número: 7\n",
      "Número: 8\n",
      "Número: 9\n",
      "Número: 10\n"
     ]
    }
   ],
   "source": [
    "for ii in range(1,11):\n",
    "    print(\"Número: \" + str(ii))"
   ]
  },
  {
   "cell_type": "code",
   "execution_count": 10,
   "id": "54944464",
   "metadata": {},
   "outputs": [
    {
     "name": "stdout",
     "output_type": "stream",
     "text": [
      "1\n",
      "2\n",
      "3\n",
      "4\n",
      "5\n"
     ]
    }
   ],
   "source": [
    "#Se pude iterar a través de Listas: En lugar de usar range, hacemos una lista de números. El loop va a través de c/u de\n",
    "# estos números en orden.\n",
    "numberList= [1, 2, 3, 4, 5]\n",
    "for ii in numberList:\n",
    "    print(ii)"
   ]
  },
  {
   "cell_type": "code",
   "execution_count": 8,
   "id": "71b98c19",
   "metadata": {},
   "outputs": [
    {
     "name": "stdout",
     "output_type": "stream",
     "text": [
      "1\n",
      "-1\n",
      "2\n",
      "-2\n",
      "3\n",
      "-3\n",
      "4\n",
      "-4\n",
      "5\n",
      "-5\n"
     ]
    }
   ],
   "source": [
    "#Se pude iterar a través de Tuplas\n",
    "numberTuple= (1, 2, 3, 4, 5)\n",
    "for ii in numberTuple:\n",
    "    print(ii)\n",
    "    print(-ii)\n",
    "#Para todo lo que quiero que entre en este loop, lo tengo que iterar (presiono tab y se pone como si hubiera sangría)"
   ]
  },
  {
   "cell_type": "code",
   "execution_count": 9,
   "id": "9090de82",
   "metadata": {},
   "outputs": [
    {
     "name": "stdout",
     "output_type": "stream",
     "text": [
      "['Número:1', 'Número:2', 'Número:3', 'Número:4', 'Número:5', 'Número:6']\n"
     ]
    }
   ],
   "source": [
    "listaDeNúmeros= []\n",
    "for ii in range(1,7):\n",
    "    newVariable=\"Número:\" + str(ii)\n",
    "    listaDeNúmeros.append(newVariable)\n",
    "print(listaDeNúmeros)"
   ]
  },
  {
   "cell_type": "markdown",
   "id": "94def801",
   "metadata": {},
   "source": [
    "#### 3. List comprehension"
   ]
  },
  {
   "cell_type": "markdown",
   "id": "10153f04",
   "metadata": {},
   "source": [
    "Los list comprehension son una versión más elegante y menos tediosa de cómo armar lstas usando bucles. Esto sirve para ahorrarse líneas y hacer más entendible el código. "
   ]
  },
  {
   "cell_type": "code",
   "execution_count": 11,
   "id": "2c5df33a",
   "metadata": {},
   "outputs": [
    {
     "name": "stdout",
     "output_type": "stream",
     "text": [
      "Mëtodo1: ['I', 'n', 'f', 'o', 'x']\n",
      "Mëtodo2: ['I', 'n', 'f', 'o', 'x']\n"
     ]
    }
   ],
   "source": [
    "# Separamos las letras del string ´Infox´:\n",
    "\n",
    "#Método 1:\n",
    "\n",
    "listaLetras=[]\n",
    "for letra in \"Infox\":\n",
    "    listaLetras.append(letra)\n",
    "print(\"Mëtodo1:\", listaLetras)\n",
    "\n",
    "#Método 2:\n",
    "\n",
    "listaLetras= [letra for letra in \"Infox\"]\n",
    "print(\"Mëtodo2:\", listaLetras)"
   ]
  },
  {
   "cell_type": "markdown",
   "id": "95b3748c",
   "metadata": {},
   "source": [
    "The append() method in Python adds a single item to the end of the existing list. After appending to the list, the size of the list increases by one:\n",
    "\n",
    "fruits = [\"apple\", \"banana\", \"cherry\"]\n",
    "\n",
    "fruits.append(\"orange\")\n",
    "\n",
    "print(fruits)\n",
    "\n",
    "['apple', 'banana', 'cherry', 'orange']"
   ]
  },
  {
   "cell_type": "markdown",
   "id": "e54def53",
   "metadata": {},
   "source": [
    "##### 4. Iteraciones con condicionales (iteraciones con if)"
   ]
  },
  {
   "cell_type": "markdown",
   "id": "9e4cd720",
   "metadata": {},
   "source": [
    "Hay casos en los que queremos omitir una iteración o queremos realizar alguna ejecución distinta cuando alguna condición dentro del bucle no ocurre. En este caso podemos incluir condicionales en las iteraciones."
   ]
  },
  {
   "cell_type": "code",
   "execution_count": 15,
   "id": "062426c3",
   "metadata": {},
   "outputs": [
    {
     "data": {
      "text/plain": [
       "['Trabajador:Héctor',\n",
       " 'Trabajador:Miguel',\n",
       " 'Trabajador:Christian',\n",
       " 'Trabajadora:Daniela',\n",
       " 'Trabajadora:Roxana',\n",
       " 'Trabajadora:Ana',\n",
       " 'Trabajadora:Claudia',\n",
       " 'Trabajador:José',\n",
       " 'Trabajador:Kevin',\n",
       " 'Trabajadora:Julieta']"
      ]
     },
     "execution_count": 15,
     "metadata": {},
     "output_type": "execute_result"
    }
   ],
   "source": [
    "listaNombres=['Héctor', 'Miguel', 'Christian', 'Daniela', 'Roxana', 'Ana', 'Claudia', 'José', 'Kevin', 'Julieta']\n",
    "nuevaListaNombres=[]\n",
    "\n",
    "for nombre in listaNombres:\n",
    "    if nombre[-1] == 'a':\n",
    "        nuevaListaNombres.append(\"Trabajadora:\" + str(nombre))\n",
    "    else:\n",
    "        nuevaListaNombres.append(\"Trabajador:\" + str(nombre))\n",
    "nuevaListaNombres\n",
    "\n",
    "#nombre(-1)= la última letra"
   ]
  },
  {
   "cell_type": "code",
   "execution_count": 16,
   "id": "848c6325",
   "metadata": {},
   "outputs": [
    {
     "data": {
      "text/plain": [
       "['Trabajador:2',\n",
       " 'Trabajador:4',\n",
       " 'Trabajador:6',\n",
       " 'Trabajador:8',\n",
       " 'Trabajador:10',\n",
       " 'Trabajador:12',\n",
       " 'Trabajador:14']"
      ]
     },
     "execution_count": 16,
     "metadata": {},
     "output_type": "execute_result"
    }
   ],
   "source": [
    "codigoTrabajador = list(range(1,15))\n",
    "codigoTrabajadorPar = []\n",
    "\n",
    "for ii in codigoTrabajador:\n",
    "    if ii%2 == 0:\n",
    "        codigoTrabajadorPar.append (\"Trabajador:\" + str(ii))\n",
    "codigoTrabajadorPar\n",
    "# % = residuo de. Si el residuo de dividir entre dos es cero, es par"
   ]
  },
  {
   "cell_type": "code",
   "execution_count": 18,
   "id": "99bd248b",
   "metadata": {},
   "outputs": [
    {
     "data": {
      "text/plain": [
       "['Trabajador: 6', 'Trabajador: 12']"
      ]
     },
     "execution_count": 18,
     "metadata": {},
     "output_type": "execute_result"
    }
   ],
   "source": [
    "codigoTrabajadorMultiploSeis = []\n",
    "for ii in codigoTrabajador:\n",
    "    if ii%2 == 0 and ii%3 == 0:\n",
    "        codigoTrabajadorMultiploSeis.append(\"Trabajador: \"+ str(ii))\n",
    "codigoTrabajadorMultiploSeis\n",
    "#Si ii es múltiplo de 2 (aka su residuo al ser dividido entre 2 es 0) y ii es múltiplo de 3= múltiplo de 6"
   ]
  },
  {
   "cell_type": "code",
   "execution_count": 19,
   "id": "e59f93fe",
   "metadata": {},
   "outputs": [
    {
     "data": {
      "text/plain": [
       "['Trabajador: 2',\n",
       " 'Trabajador: 3',\n",
       " 'Trabajador: 4',\n",
       " 'Trabajador: 6',\n",
       " 'Trabajador: 8',\n",
       " 'Trabajador: 9',\n",
       " 'Trabajador: 10',\n",
       " 'Trabajador: 12',\n",
       " 'Trabajador: 14']"
      ]
     },
     "execution_count": 19,
     "metadata": {},
     "output_type": "execute_result"
    }
   ],
   "source": [
    "codigoTrabajadorMultiplos = []\n",
    "for ii in codigoTrabajador:\n",
    "    if ii%2 == 0 or ii%3 == 0:\n",
    "        codigoTrabajadorMultiplos.append(\"Trabajador: \"+ str(ii))\n",
    "codigoTrabajadorMultiplos"
   ]
  },
  {
   "cell_type": "markdown",
   "id": "baa794ea",
   "metadata": {},
   "source": [
    "#### 5. Nested iterations (iteraciones anidadas)"
   ]
  },
  {
   "cell_type": "markdown",
   "id": "319cbb46",
   "metadata": {},
   "source": [
    "En algunos casos, querremos iterar en múltiples listas, o cuando trabajemos con matrices, múltiples dimensiones. Para esto podemos anidar bucles dentro de otros bucles."
   ]
  },
  {
   "cell_type": "code",
   "execution_count": 21,
   "id": "877e66ff",
   "metadata": {},
   "outputs": [
    {
     "name": "stdout",
     "output_type": "stream",
     "text": [
      "[[0. 0. 0. 0. 0.]\n",
      " [0. 0. 0. 0. 0.]\n",
      " [0. 0. 0. 0. 0.]\n",
      " [0. 0. 0. 0. 0.]\n",
      " [0. 0. 0. 0. 0.]] \n",
      " \n",
      " [[1. 1. 1. 1. 1.]\n",
      " [1. 1. 1. 1. 1.]\n",
      " [1. 1. 1. 1. 1.]\n",
      " [1. 1. 1. 1. 1.]\n",
      " [1. 1. 1. 1. 1.]]\n"
     ]
    }
   ],
   "source": [
    "# Nested iteration:\n",
    "import numpy as np\n",
    "import copy\n",
    "\n",
    "zeroArray= np.zeros((5,5))\n",
    "onesArray= copy.copy(zeroArray) #copy is copy an existing list\n",
    "\n",
    "for ii in range(onesArray.shape[0]):\n",
    "    for jj in range(onesArray.shape[1]):\n",
    "        onesArray[ii, jj] = 1\n",
    "        \n",
    "print(zeroArray, '\\n \\n',onesArray)"
   ]
  },
  {
   "cell_type": "markdown",
   "id": "8e9c64a8",
   "metadata": {},
   "source": [
    "1. Es un array 5x5, 5 columnas cinco filas. Donde todos los valores son 0 (np.zeros).\n",
    "2. Escógeme todos los números ii desde el 0 hasta el nro las filas que tiene onesArray, y luego has lo siguiente. for ii in range(onesArray.shape[0]). Aka: selecciona todo mi array 5x5 lleno de ceros.\n",
    "3. lo siguiente =for jj in range(onesArray.shape[1]):= itera a través de todos los valores jj desde el índice inicial (0) hasta el total de número de columnas que tiene este array. AKA: Cambia mi selección por unos."
   ]
  },
  {
   "cell_type": "code",
   "execution_count": 23,
   "id": "1cba4e47",
   "metadata": {},
   "outputs": [
    {
     "name": "stdout",
     "output_type": "stream",
     "text": [
      "[[0. 0. 0. 0. 0.]\n",
      " [0. 0. 0. 0. 0.]\n",
      " [0. 0. 0. 0. 0.]\n",
      " [0. 0. 0. 0. 0.]\n",
      " [0. 0. 0. 0. 0.]] \n",
      " \n",
      " [[1. 1. 1. 1. 1.]\n",
      " [1. 1. 1. 1. 1.]\n",
      " [1. 1. 1. 1. 1.]\n",
      " [1. 1. 1. 1. 1.]\n",
      " [1. 1. 1. 1. 1.]] \n",
      " \n",
      " [[0. 0. 0. 0. 0.]\n",
      " [0. 0. 0. 0. 0.]\n",
      " [0. 0. 0. 0. 0.]\n",
      " [0. 0. 0. 0. 0.]\n",
      " [0. 0. 0. 0. 0.]]\n"
     ]
    }
   ],
   "source": [
    "# Nested iteration:\n",
    "import numpy as np\n",
    "import copy\n",
    "\n",
    "zeroArray= np.zeros((5,5))\n",
    "onesArray= copy.copy(zeroArray) #copy is copy an existing list\n",
    "\n",
    "for ii in range(onesArray.shape[0]):\n",
    "    for jj in range(onesArray.shape[1]):\n",
    "        onesArray[ii, jj] = 1\n",
    "\n",
    "onesArrayDiag= copy.copy(zeroArray)\n",
    "for ii in range(onesArrayDiag.shape[0]):\n",
    "    for jj in range(onesArray.shape[1]):\n",
    "        if jj in !=jj?\n",
    "        onesArray[ii, jj] = 1\n",
    "        \n",
    "print(zeroArray, '\\n \\n', onesArray, '\\n \\n', onesArrayDiag )\n",
    "\n",
    "#'\\n \\n' es como presionar \"enter\", los imprime en líneas separadas"
   ]
  },
  {
   "cell_type": "markdown",
   "id": "8f6e79e5",
   "metadata": {},
   "source": [
    "#### 6. Iteraciones en paralelo"
   ]
  },
  {
   "cell_type": "markdown",
   "id": "654d8f64",
   "metadata": {},
   "source": [
    "Es común utilizar iteraciones en paralelo cuando queremos iterar a traves de listas diferentes de forma simultanea. Para ello se utiliza el comando zip. Este proceso se puede realizar con el comando zip en el cual se incluye como insumo todas las listas o secuencias a traves de las cuales queremos iterar."
   ]
  },
  {
   "cell_type": "code",
   "execution_count": 27,
   "id": "841299fe",
   "metadata": {},
   "outputs": [
    {
     "name": "stdout",
     "output_type": "stream",
     "text": [
      "Worker Number | Age | Random Number\n",
      "------------------------------------\n",
      "Trabajador:1 | 33 | 0.1416\n",
      "Trabajador:2 | 33 | 0.1055\n",
      "Trabajador:3 | 22 | 0.7688\n",
      "Trabajador:4 | 30 | 0.122\n",
      "Trabajador:5 | 22 | 0.7075\n",
      "Trabajador:6 | 45 | 0.4114\n",
      "Trabajador:7 | 18 | 0.6054\n",
      "Trabajador:8 | 28 | 0.7495\n",
      "Trabajador:9 | 26 | 0.8708\n",
      "Trabajador:10 | 36 | 0.6937\n"
     ]
    }
   ],
   "source": [
    "import random\n",
    "\n",
    "workersNumber = [\"Trabajador:\" + str(i) for i in range(1,11)]\n",
    "workersAge  = [random.randint(18, 50) for i in range(10)]\n",
    "workerRandomNumber = [random.uniform(0, 1) for i in range(10)]\n",
    "\n",
    "#Use randint() when you want to generate a random number from an inclusive range            \n",
    "\n",
    "print('Worker Number', '|', 'Age' , '|' , 'Random Number')\n",
    "print('------------------------------------')\n",
    "\n",
    "for number, age, randomNumber in zip(workersNumber, workersAge, workerRandomNumber):\n",
    "    print(number, '|', age , '|' , round(randomNumber,4))"
   ]
  },
  {
   "cell_type": "code",
   "execution_count": 43,
   "id": "16e1628b",
   "metadata": {},
   "outputs": [
    {
     "name": "stdout",
     "output_type": "stream",
     "text": [
      "Perú: ['Trabajador:1', 'Trabajador:2', 'Trabajador:4']\n",
      "Chile: ['Trabajador:6']\n",
      "Argentina: ['Trabajador:7', 'Trabajador:10']\n",
      "Colombia ['Trabajador:3', 'Trabajador:5', 'Trabajador:8', 'Trabajador:9']\n"
     ]
    }
   ],
   "source": [
    "groupPerú=[]\n",
    "groupChile=[]\n",
    "groupArgentina=[]\n",
    "groupColombia=[]\n",
    "\n",
    "for randomNumber, number in zip (workerRandomNumber, workersNumber):\n",
    "    if randomNumber < 0.20:\n",
    "        groupPerú.append(number)\n",
    "    elif randomNumber >= 0.20 and randomNumber < 0.50:\n",
    "        groupChile.append(number)\n",
    "    elif randomNumber >= 0.50 and randomNumber < 0.70:\n",
    "        groupArgentina.append(number)\n",
    "    else:\n",
    "        groupColombia.append(number)\n",
    "        \n",
    "print ('Perú:', groupPerú)\n",
    "print('Chile:', groupChile)\n",
    "print('Argentina:', groupArgentina)\n",
    "print('Colombia', groupColombia)"
   ]
  },
  {
   "cell_type": "code",
   "execution_count": 50,
   "id": "a65148ad",
   "metadata": {
    "scrolled": true
   },
   "outputs": [
    {
     "ename": "NameError",
     "evalue": "name 'seen' is not defined",
     "output_type": "error",
     "traceback": [
      "\u001b[1;31m---------------------------------------------------------------------------\u001b[0m",
      "\u001b[1;31mNameError\u001b[0m                                 Traceback (most recent call last)",
      "\u001b[1;32m<ipython-input-50-726bf5b6d2d5>\u001b[0m in \u001b[0;36m<module>\u001b[1;34m\u001b[0m\n\u001b[0;32m     11\u001b[0m     \u001b[1;32mreturn\u001b[0m \u001b[0mgroupName\u001b[0m\u001b[1;33m\u001b[0m\u001b[1;33m\u001b[0m\u001b[0m\n\u001b[0;32m     12\u001b[0m \u001b[1;33m\u001b[0m\u001b[0m\n\u001b[1;32m---> 13\u001b[1;33m \u001b[0mgroupPerú\u001b[0m \u001b[1;33m=\u001b[0m \u001b[1;33m[\u001b[0m\u001b[0mnumber\u001b[0m \u001b[1;32mfor\u001b[0m \u001b[0mseed\u001b[0m\u001b[1;33m,\u001b[0m \u001b[0mnumber\u001b[0m \u001b[1;32min\u001b[0m \u001b[0mzip\u001b[0m\u001b[1;33m(\u001b[0m\u001b[0mworkerRandomNumber\u001b[0m\u001b[1;33m,\u001b[0m \u001b[0mworkersNumber\u001b[0m\u001b[1;33m)\u001b[0m \u001b[1;32mif\u001b[0m \u001b[0mgroupAsignment\u001b[0m\u001b[1;33m(\u001b[0m\u001b[0mseed\u001b[0m\u001b[1;33m)\u001b[0m \u001b[1;33m==\u001b[0m \u001b[1;34m\"Perú\"\u001b[0m\u001b[1;33m]\u001b[0m\u001b[1;33m\u001b[0m\u001b[1;33m\u001b[0m\u001b[0m\n\u001b[0m\u001b[0;32m     14\u001b[0m \u001b[0mgroupChile\u001b[0m \u001b[1;33m=\u001b[0m \u001b[1;33m[\u001b[0m\u001b[0mnumber\u001b[0m \u001b[1;32mfor\u001b[0m \u001b[0mseed\u001b[0m\u001b[1;33m,\u001b[0m \u001b[0mnumber\u001b[0m \u001b[1;32min\u001b[0m \u001b[0mzip\u001b[0m\u001b[1;33m(\u001b[0m\u001b[0mworkerRandomNumber\u001b[0m\u001b[1;33m,\u001b[0m \u001b[0mworkersNumber\u001b[0m\u001b[1;33m)\u001b[0m \u001b[1;32mif\u001b[0m \u001b[0mgroupAsignment\u001b[0m\u001b[1;33m(\u001b[0m\u001b[0mseed\u001b[0m\u001b[1;33m)\u001b[0m \u001b[1;33m==\u001b[0m \u001b[1;34m\"Chile\"\u001b[0m\u001b[1;33m]\u001b[0m\u001b[1;33m\u001b[0m\u001b[1;33m\u001b[0m\u001b[0m\n\u001b[0;32m     15\u001b[0m \u001b[0mgroupArgentina\u001b[0m \u001b[1;33m=\u001b[0m \u001b[1;33m[\u001b[0m\u001b[0mnumber\u001b[0m \u001b[1;32mfor\u001b[0m \u001b[0mseed\u001b[0m\u001b[1;33m,\u001b[0m \u001b[0mnumber\u001b[0m \u001b[1;32min\u001b[0m \u001b[0mzip\u001b[0m\u001b[1;33m(\u001b[0m\u001b[0mworkerRandomNumber\u001b[0m\u001b[1;33m,\u001b[0m \u001b[0mworkersNumber\u001b[0m\u001b[1;33m)\u001b[0m \u001b[1;32mif\u001b[0m \u001b[0mgroupAsignment\u001b[0m\u001b[1;33m(\u001b[0m\u001b[0mseed\u001b[0m\u001b[1;33m)\u001b[0m \u001b[1;33m==\u001b[0m \u001b[1;34m\"Argentina\"\u001b[0m\u001b[1;33m]\u001b[0m\u001b[1;33m\u001b[0m\u001b[1;33m\u001b[0m\u001b[0m\n",
      "\u001b[1;32m<ipython-input-50-726bf5b6d2d5>\u001b[0m in \u001b[0;36m<listcomp>\u001b[1;34m(.0)\u001b[0m\n\u001b[0;32m     11\u001b[0m     \u001b[1;32mreturn\u001b[0m \u001b[0mgroupName\u001b[0m\u001b[1;33m\u001b[0m\u001b[1;33m\u001b[0m\u001b[0m\n\u001b[0;32m     12\u001b[0m \u001b[1;33m\u001b[0m\u001b[0m\n\u001b[1;32m---> 13\u001b[1;33m \u001b[0mgroupPerú\u001b[0m \u001b[1;33m=\u001b[0m \u001b[1;33m[\u001b[0m\u001b[0mnumber\u001b[0m \u001b[1;32mfor\u001b[0m \u001b[0mseed\u001b[0m\u001b[1;33m,\u001b[0m \u001b[0mnumber\u001b[0m \u001b[1;32min\u001b[0m \u001b[0mzip\u001b[0m\u001b[1;33m(\u001b[0m\u001b[0mworkerRandomNumber\u001b[0m\u001b[1;33m,\u001b[0m \u001b[0mworkersNumber\u001b[0m\u001b[1;33m)\u001b[0m \u001b[1;32mif\u001b[0m \u001b[0mgroupAsignment\u001b[0m\u001b[1;33m(\u001b[0m\u001b[0mseed\u001b[0m\u001b[1;33m)\u001b[0m \u001b[1;33m==\u001b[0m \u001b[1;34m\"Perú\"\u001b[0m\u001b[1;33m]\u001b[0m\u001b[1;33m\u001b[0m\u001b[1;33m\u001b[0m\u001b[0m\n\u001b[0m\u001b[0;32m     14\u001b[0m \u001b[0mgroupChile\u001b[0m \u001b[1;33m=\u001b[0m \u001b[1;33m[\u001b[0m\u001b[0mnumber\u001b[0m \u001b[1;32mfor\u001b[0m \u001b[0mseed\u001b[0m\u001b[1;33m,\u001b[0m \u001b[0mnumber\u001b[0m \u001b[1;32min\u001b[0m \u001b[0mzip\u001b[0m\u001b[1;33m(\u001b[0m\u001b[0mworkerRandomNumber\u001b[0m\u001b[1;33m,\u001b[0m \u001b[0mworkersNumber\u001b[0m\u001b[1;33m)\u001b[0m \u001b[1;32mif\u001b[0m \u001b[0mgroupAsignment\u001b[0m\u001b[1;33m(\u001b[0m\u001b[0mseed\u001b[0m\u001b[1;33m)\u001b[0m \u001b[1;33m==\u001b[0m \u001b[1;34m\"Chile\"\u001b[0m\u001b[1;33m]\u001b[0m\u001b[1;33m\u001b[0m\u001b[1;33m\u001b[0m\u001b[0m\n\u001b[0;32m     15\u001b[0m \u001b[0mgroupArgentina\u001b[0m \u001b[1;33m=\u001b[0m \u001b[1;33m[\u001b[0m\u001b[0mnumber\u001b[0m \u001b[1;32mfor\u001b[0m \u001b[0mseed\u001b[0m\u001b[1;33m,\u001b[0m \u001b[0mnumber\u001b[0m \u001b[1;32min\u001b[0m \u001b[0mzip\u001b[0m\u001b[1;33m(\u001b[0m\u001b[0mworkerRandomNumber\u001b[0m\u001b[1;33m,\u001b[0m \u001b[0mworkersNumber\u001b[0m\u001b[1;33m)\u001b[0m \u001b[1;32mif\u001b[0m \u001b[0mgroupAsignment\u001b[0m\u001b[1;33m(\u001b[0m\u001b[0mseed\u001b[0m\u001b[1;33m)\u001b[0m \u001b[1;33m==\u001b[0m \u001b[1;34m\"Argentina\"\u001b[0m\u001b[1;33m]\u001b[0m\u001b[1;33m\u001b[0m\u001b[1;33m\u001b[0m\u001b[0m\n",
      "\u001b[1;32m<ipython-input-50-726bf5b6d2d5>\u001b[0m in \u001b[0;36mgroupAsignment\u001b[1;34m(seed)\u001b[0m\n\u001b[0;32m      2\u001b[0m     \u001b[1;32mif\u001b[0m \u001b[0mseed\u001b[0m \u001b[1;33m<\u001b[0m \u001b[1;36m0.20\u001b[0m\u001b[1;33m:\u001b[0m\u001b[1;33m\u001b[0m\u001b[1;33m\u001b[0m\u001b[0m\n\u001b[0;32m      3\u001b[0m         \u001b[0mgroupName\u001b[0m\u001b[1;33m=\u001b[0m \u001b[1;34m\"Perú\"\u001b[0m\u001b[1;33m\u001b[0m\u001b[1;33m\u001b[0m\u001b[0m\n\u001b[1;32m----> 4\u001b[1;33m     \u001b[1;32melif\u001b[0m \u001b[0mseed\u001b[0m \u001b[1;33m>=\u001b[0m \u001b[1;36m0.20\u001b[0m \u001b[1;32mand\u001b[0m \u001b[0mseen\u001b[0m \u001b[1;33m<\u001b[0m \u001b[1;36m0.50\u001b[0m\u001b[1;33m:\u001b[0m\u001b[1;33m\u001b[0m\u001b[1;33m\u001b[0m\u001b[0m\n\u001b[0m\u001b[0;32m      5\u001b[0m         \u001b[0mgroupName\u001b[0m\u001b[1;33m=\u001b[0m \u001b[1;34m\"Chile\"\u001b[0m\u001b[1;33m\u001b[0m\u001b[1;33m\u001b[0m\u001b[0m\n\u001b[0;32m      6\u001b[0m     \u001b[1;32melif\u001b[0m \u001b[0mseed\u001b[0m \u001b[1;33m>=\u001b[0m \u001b[1;36m0.50\u001b[0m \u001b[1;32mand\u001b[0m \u001b[0mseen\u001b[0m \u001b[1;33m<\u001b[0m \u001b[1;36m0.70\u001b[0m\u001b[1;33m:\u001b[0m\u001b[1;33m\u001b[0m\u001b[1;33m\u001b[0m\u001b[0m\n",
      "\u001b[1;31mNameError\u001b[0m: name 'seen' is not defined"
     ]
    }
   ],
   "source": [
    "def groupAsignment(seed):\n",
    "    if seed < 0.20:\n",
    "        groupName= \"Perú\"\n",
    "    elif seed >= 0.20 and seen < 0.50:\n",
    "        groupName= \"Chile\"\n",
    "    elif seed >= 0.50 and seen < 0.70:\n",
    "        groupName= \"Argentina\"\n",
    "    else:\n",
    "        groupName=\"Colombia\"\n",
    "\n",
    "    return groupName\n",
    "\n",
    "groupPerú = [number for seed, number in zip(workerRandomNumber, workersNumber) if groupAsignment(seed) == \"Perú\"]\n",
    "groupChile = [number for seed, number in zip(workerRandomNumber, workersNumber) if groupAsignment(seed) == \"Chile\"]\n",
    "groupArgentina = [number for seed, number in zip(workerRandomNumber, workersNumber) if groupAsignment(seed) == \"Argentina\"]\n",
    "groupColombia = [number for seed, number in zip(workerRandomNumber, workersNumber) if groupAsignment(seed) == \"Colombia\"]\n",
    "\n",
    "print('Perú:', groupPeru)\n",
    "print('Chile:', groupChile)\n",
    "print('Argentina:', groupArgentina)\n",
    "print('Colombia:', groupColombia)\n",
    "    \n",
    "#def seed es evaluar el valor del seed en todos los if, elif, else."
   ]
  },
  {
   "cell_type": "markdown",
   "id": "2b8a8293",
   "metadata": {},
   "source": [
    "#### 7. While Statements"
   ]
  },
  {
   "cell_type": "markdown",
   "id": "9684e24b",
   "metadata": {},
   "source": [
    "Con el comando while podemos ejecutar un conjunto de declaraciones siempre y cuando la condición inicial con que se ejecuta el comando while sea verdadera. Lo ideal es que esta condición sea modificada o cambie endogenamente en base a lo que ocurre dentro del bucle."
   ]
  },
  {
   "cell_type": "code",
   "execution_count": null,
   "id": "552139f2",
   "metadata": {},
   "outputs": [],
   "source": []
  }
 ],
 "metadata": {
  "kernelspec": {
   "display_name": "Python 3",
   "language": "python",
   "name": "python3"
  },
  "language_info": {
   "codemirror_mode": {
    "name": "ipython",
    "version": 3
   },
   "file_extension": ".py",
   "mimetype": "text/x-python",
   "name": "python",
   "nbconvert_exporter": "python",
   "pygments_lexer": "ipython3",
   "version": "3.8.8"
  }
 },
 "nbformat": 4,
 "nbformat_minor": 5
}
