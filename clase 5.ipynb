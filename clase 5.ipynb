{
 "cells": [
  {
   "cell_type": "markdown",
   "id": "318f3a18",
   "metadata": {},
   "source": [
    "# Python para Economistas: Quinta Clase"
   ]
  },
  {
   "cell_type": "markdown",
   "id": "ca1cd077",
   "metadata": {},
   "source": [
    "#### 1. Flujo de ejecución: argumentos y parámetros"
   ]
  },
  {
   "cell_type": "markdown",
   "id": "0d359a4d",
   "metadata": {},
   "source": [
    "En Python, una función es un grupo de declaraciones relacionadas que realiza una tarea específica. Por lo general las funciones requieren insumos que son modificados o modifican otros objetos dentro de la funcion y así arrojan un resultado. Las funciones ayudan a dividir nuestro programa en fragmentos más pequeños y modulares. A medida que nuestro programa se hace más y más grande, las funciones lo hacen más organizado y manejable. Además, evita la repetición y hace que el código sea reutilizable."
   ]
  },
  {
   "cell_type": "markdown",
   "id": "e3108391",
   "metadata": {},
   "source": [
    "La sintáxis:"
   ]
  },
  {
   "cell_type": "markdown",
   "id": "e3baa22a",
   "metadata": {},
   "source": [
    "                                 def nombre_funcion(_insumo_):\n",
    "                                 \"\"\"\n",
    "                                 Documentación\n",
    "                                 \"\"\"\n",
    "                                 \n",
    "                                 _sentencias_...\n",
    "                                 _sentencias_...\n",
    "                                 ...\n",
    "                                 return _resultado_"
   ]
  },
  {
   "cell_type": "markdown",
   "id": "c72d236e",
   "metadata": {},
   "source": [
    "Elementos en una función:\n",
    "1. Comando _def_ que marca el inicio del encabezado de la función.\n",
    "2. El nombre de función *nombre_funcion* sirve para identificar de forma exclusiva la rutina y poder llamarla luego en el código.\n",
    "3. Parámetros _insumo_ a través de los cuales pasamos valores a una función. Son opcionales.\n",
    "4. Dos puntos (:) para marcar el final del encabezado de la función.\n",
    "5. Documentación opcional, esta va entre tres comillas dobles y sirve para describir lo que hace la función.\n",
    "6. Una o más declaraciones de Python válidas que componen el cuerpo de la función. Las declaraciones deben estar en el mismo margen (generalmente 4 espacios).\n",
    "7. Una declaración de devolución *return* para devolver un valor de la función _resultado_.\n",
    "\n",
    "Para mayor detalle ir a: https://www.programiz.com/python-programming/function"
   ]
  },
  {
   "cell_type": "code",
   "execution_count": 2,
   "id": "8d5ef1ee",
   "metadata": {},
   "outputs": [],
   "source": [
    "import numpy as np\n",
    "import pandas as pd\n",
    "import time\n",
    "import random\n",
    "import matplotlib.pyplot as plt"
   ]
  },
  {
   "cell_type": "code",
   "execution_count": 3,
   "id": "6c65a5ef",
   "metadata": {},
   "outputs": [],
   "source": [
    "def miPrimeraSuma(a,b):\n",
    "    return a+b"
   ]
  },
  {
   "cell_type": "code",
   "execution_count": 4,
   "id": "0b4099b1",
   "metadata": {},
   "outputs": [
    {
     "name": "stdout",
     "output_type": "stream",
     "text": [
      "3\n"
     ]
    }
   ],
   "source": [
    "miPrimeraSuma(1,2)\n",
    "suma= miPrimeraSuma(1,2)\n",
    "print(suma)"
   ]
  },
  {
   "cell_type": "code",
   "execution_count": 15,
   "id": "a608f202",
   "metadata": {},
   "outputs": [
    {
     "name": "stdout",
     "output_type": "stream",
     "text": [
      "None\n"
     ]
    }
   ],
   "source": [
    "def miSegundaSuma(a=None,b=None):\n",
    "    if a != None and b != None:\n",
    "        return a+b\n",
    "    elif a == None or b != None:\n",
    "        return b\n",
    "    elif a != None or b == None:\n",
    "            return a\n",
    "    else:\n",
    "        return None\n",
    "\n",
    "print(miSegundaSuma(None, None))\n",
    "# a == None : a es igual a none, a != None : a es distinto de none"
   ]
  },
  {
   "cell_type": "code",
   "execution_count": 16,
   "id": "ac29b350",
   "metadata": {},
   "outputs": [
    {
     "name": "stdout",
     "output_type": "stream",
     "text": [
      "5\n"
     ]
    }
   ],
   "source": [
    "def miSegundaSuma(a=None,b=None):\n",
    "    if a != None and b != None:\n",
    "        return a+b\n",
    "    elif a == None or b != None:\n",
    "        return b\n",
    "    elif a != None or b == None:\n",
    "            return a\n",
    "    else:\n",
    "        return None\n",
    "\n",
    "print(miSegundaSuma(5, None))"
   ]
  },
  {
   "cell_type": "markdown",
   "id": "5218af9f",
   "metadata": {},
   "source": [
    "#### 2. Funciones anónimas lambdas:"
   ]
  },
  {
   "cell_type": "markdown",
   "id": "b0869a77",
   "metadata": {},
   "source": [
    "En Python, una función anónima se define sin un nombre. Mientras que las funciones normales se definen usando el comando def en Python, las funciones anónimas se definen usando el comando lambda. **(Se usa para funciones sencillas,** así como listas [] vs tuplas ()\"."
   ]
  },
  {
   "cell_type": "code",
   "execution_count": 6,
   "id": "6bf4a3e1",
   "metadata": {},
   "outputs": [
    {
     "data": {
      "text/plain": [
       "3"
      ]
     },
     "execution_count": 6,
     "metadata": {},
     "output_type": "execute_result"
    }
   ],
   "source": [
    "suma = lambda x, y: x + y\n",
    "suma (1,2)\n",
    "#hemos definido que lambda tiene dos insumos, si ponemos x + y + z, y no agregamos lambda x, y, z: no funciona, error."
   ]
  },
  {
   "cell_type": "code",
   "execution_count": 7,
   "id": "2ffe77cd",
   "metadata": {},
   "outputs": [
    {
     "data": {
      "text/plain": [
       "[6, 6, 5]"
      ]
     },
     "execution_count": 7,
     "metadata": {},
     "output_type": "execute_result"
    }
   ],
   "source": [
    "list(map(suma, [1, 3, 4], [5, 3, 1]))\n",
    "list(map(miPrimeraSuma, [1, 3, 4], [5, 3, 1]))\n",
    "list (map(lambda x, y: x + y, [1, 3, 4], [5, 3, 1]))"
   ]
  },
  {
   "cell_type": "code",
   "execution_count": 8,
   "id": "c63c86a7",
   "metadata": {},
   "outputs": [
    {
     "name": "stdout",
     "output_type": "stream",
     "text": [
      "[2, 4, 6, 8]\n"
     ]
    }
   ],
   "source": [
    "# Python program to demonstrate working of map.\n",
    "  \n",
    "# Return double of n\n",
    "def addition(n):\n",
    "    return n + n\n",
    "  \n",
    "# We double all numbers using map()\n",
    "numbers = (1, 2, 3, 4)\n",
    "result = map(addition, numbers)\n",
    "print(list(result))"
   ]
  },
  {
   "cell_type": "code",
   "execution_count": 9,
   "id": "893510e4",
   "metadata": {},
   "outputs": [
    {
     "data": {
      "text/plain": [
       "-1"
      ]
     },
     "execution_count": 9,
     "metadata": {},
     "output_type": "execute_result"
    }
   ],
   "source": [
    "resta = lambda x, y: x - y\n",
    "resta(1,2)"
   ]
  },
  {
   "cell_type": "markdown",
   "id": "b3e75b39",
   "metadata": {},
   "source": [
    "#### 3. Función map"
   ]
  },
  {
   "cell_type": "markdown",
   "id": "c369eb7b",
   "metadata": {},
   "source": [
    "La función map() aplica una función dada a cada elemento de un iterable (lista, tupla, etc.) y devuelve una lista del mismo tamaño con los resultados."
   ]
  },
  {
   "cell_type": "code",
   "execution_count": 18,
   "id": "bdd6c07f",
   "metadata": {},
   "outputs": [
    {
     "data": {
      "text/plain": [
       "[8, 11, 6, 13, 12, 19]"
      ]
     },
     "execution_count": 18,
     "metadata": {},
     "output_type": "execute_result"
    }
   ],
   "source": [
    "dataX= [3, 4, 6, 5, 10, 15]\n",
    "dataY=[5, 7, 0, 8, 2, 4]\n",
    "#los insumos dataX/Y, tienen que tener los mísmos elementos para que la función funcione. SI dataX tiene 6 elementos, \n",
    "# dataY tmb.\n",
    "list(map(suma, dataX, dataY))"
   ]
  },
  {
   "cell_type": "markdown",
   "id": "214d986e",
   "metadata": {},
   "source": [
    "#### 4. Filter"
   ]
  },
  {
   "cell_type": "markdown",
   "id": "cf6e0966",
   "metadata": {},
   "source": [
    "El método filter() filtra un objeto iterable con la ayuda de una función que prueba en base a condicionales que cada elemento en del iterable sea verdadero o no. El resultado del metodo es una lista con el mismo, o menor número de elementos dado que cumplieron con ser verdaderos en base a la función."
   ]
  },
  {
   "cell_type": "code",
   "execution_count": 25,
   "id": "96a5b71a",
   "metadata": {},
   "outputs": [
    {
     "data": {
      "text/plain": [
       "['a', 'e', 'i', 'u']"
      ]
     },
     "execution_count": 25,
     "metadata": {},
     "output_type": "execute_result"
    }
   ],
   "source": [
    "alphabets= ['a', 'b', 'c', 'e', 'i', 'j', 'u']\n",
    "#Función que filtra vocales:\n",
    "def filtrarVocales(letra):\n",
    "    vocales= ['a', 'e', 'i', 'o', 'u']\n",
    "    if (letra in vocales):\n",
    "        return True\n",
    "    else:\n",
    "        return False\n",
    "    \n",
    "filteredVowels = filter(filtrarVocales, alphabets)\n",
    "list(filteredVowels)\n",
    "\n"
   ]
  },
  {
   "cell_type": "code",
   "execution_count": 27,
   "id": "7a7eb890",
   "metadata": {},
   "outputs": [
    {
     "name": "stdout",
     "output_type": "stream",
     "text": [
      "['a', 'e', 'i', 'u']\n"
     ]
    }
   ],
   "source": [
    "alphabets= ['a', 'b', 'c', 'e', 'i', 'j', 'u']\n",
    "\n",
    "filteredVowels = list(filter(lambda x: x in ['a', 'e', 'i', 'o', 'u'], alphabets))\n",
    "\n",
    "\n",
    "print(filteredVowels)"
   ]
  },
  {
   "cell_type": "markdown",
   "id": "0ec02eb0",
   "metadata": {},
   "source": [
    "#### 5. El paquete numpy"
   ]
  },
  {
   "cell_type": "markdown",
   "id": "80d8abba",
   "metadata": {},
   "source": [
    "NumPy es un paquete de procesamiento de matrices de uso general. Proporciona un objeto matricial con multiples propiedades y de alto rendimiento y herramientas para trabajar con estas matrices. Algunas de estas herramientas son codificadas vía C/C++. Este paquete es fundamental para la ciencia de datos pues contiene varias características, incluidas estas importantes:\n",
    "\n",
    "1. Un poderoso objeto de matriz N-dimensional\n",
    "2. Funciones sofisticadas para hacer broadcasting (tengo 2 matrices, las junto y tengo una matriz de 2 dimensiones).\n",
    "3. Herramientas para integrar código C / C ++ y Fortran\n",
    "4. Métodos de álgebra lineal, transformación de Fourier y rutinas para obtener de números aleatorios de distintas distribuciones.\n",
    "5. NumPy también se puede utilizar como un contenedor eficiente multidimensional de datos genéricos."
   ]
  },
  {
   "cell_type": "code",
   "execution_count": 33,
   "id": "ff4ba325",
   "metadata": {},
   "outputs": [
    {
     "name": "stdout",
     "output_type": "stream",
     "text": [
      "[[0.25783237 0.03003168 0.32741888 0.60416956 0.03789029]\n",
      " [0.64338535 0.22453543 0.83224068 0.10286073 0.06838853]\n",
      " [0.05826408 0.14704233 0.0650642  0.81881837 0.92599473]\n",
      " [0.87439159 0.02092589 0.90945802 0.44702677 0.35495863]\n",
      " [0.13212027 0.77504708 0.62058761 0.896686   0.7530666 ]]\n"
     ]
    }
   ],
   "source": [
    "import numpy as np\n",
    "\n",
    "miMatrix = np.ones((5,5)) # np.ones genera una matriz de unos, 5x5\n",
    "miMatrix = np.ones((5,5,5)) # np.ones genera una matriz de unos, 5x5x5 (tridimensional)\n",
    "miMatrix = np.zeros((5,5)) #matriz de ceros\n",
    "miMatrix = np.random.rand(5,5) #matriz de números aleatorios 5x5\n",
    "print(miMatrix)\n",
    "\n"
   ]
  },
  {
   "cell_type": "code",
   "execution_count": 36,
   "id": "6103f9be",
   "metadata": {},
   "outputs": [
    {
     "name": "stdout",
     "output_type": "stream",
     "text": [
      "[2 4] \n",
      "\n",
      " [3 3] \n",
      "\n",
      " [1.5 1.5] \n",
      "\n",
      " [2 2] \n",
      "\n",
      " [1 1] \n",
      "\n",
      " [2 2] \n",
      "\n",
      " [0.5 0.5] \n",
      "\n",
      " [[1 1]\n",
      " [2 2]]\n"
     ]
    }
   ],
   "source": [
    "# Numpy Arrays has multiple methods included\n",
    "\n",
    "myArray = np.array([[1, 2],[1, 2]])\n",
    "print(\n",
    "myArray.sum(0),'\\n\\n',\n",
    "myArray.sum(1),'\\n\\n',\n",
    "myArray.mean(1),'\\n\\n',\n",
    "myArray.max(1),'\\n\\n',\n",
    "myArray.min(1),'\\n\\n',\n",
    "myArray.max(1),'\\n\\n',\n",
    "myArray.std(1), '\\n\\n',\n",
    "myArray.transpose()\n",
    ")\n",
    "\n",
    "# (0)= filas, (1)=columnas\n",
    "# myArray.sum(0)= la suma de mis filas\n",
    "# myArray.transpose() = la transpuesta"
   ]
  },
  {
   "cell_type": "code",
   "execution_count": 39,
   "id": "120fb7fe",
   "metadata": {
    "scrolled": true
   },
   "outputs": [
    {
     "name": "stdout",
     "output_type": "stream",
     "text": [
      "[[1 2]\n",
      " [1 2]] \n",
      "\n",
      " [[1 1]\n",
      " [2 2]]\n"
     ]
    }
   ],
   "source": [
    "print (\n",
    "    myArray, '\\n\\n',\n",
    "    myArray.transpose()\n",
    ")"
   ]
  },
  {
   "cell_type": "code",
   "execution_count": 40,
   "id": "6ec31f6f",
   "metadata": {},
   "outputs": [
    {
     "name": "stdout",
     "output_type": "stream",
     "text": [
      "[0.25783237 0.03003168 0.32741888 0.60416956 0.03789029]\n",
      "[0.64338535 0.22453543 0.83224068 0.10286073 0.06838853]\n",
      "[0.05826408 0.14704233 0.0650642  0.81881837 0.92599473]\n",
      "[0.87439159 0.02092589 0.90945802 0.44702677 0.35495863]\n",
      "[0.13212027 0.77504708 0.62058761 0.896686   0.7530666 ]\n",
      "[0.25783237 0.64338535 0.05826408 0.87439159 0.13212027]\n",
      "[0.03003168 0.22453543 0.14704233 0.02092589 0.77504708]\n",
      "[0.32741888 0.83224068 0.0650642  0.90945802 0.62058761]\n",
      "[0.60416956 0.10286073 0.81881837 0.44702677 0.896686  ]\n",
      "[0.03789029 0.06838853 0.92599473 0.35495863 0.7530666 ]\n"
     ]
    }
   ],
   "source": [
    "for row in miMatrix:\n",
    "    print(row)\n",
    "\n",
    "for col in miMatrix.transpose():\n",
    "    print(col)"
   ]
  },
  {
   "cell_type": "code",
   "execution_count": 42,
   "id": "2b5998aa",
   "metadata": {},
   "outputs": [
    {
     "name": "stdout",
     "output_type": "stream",
     "text": [
      "2.167737783827592\n",
      "(10000,)\n",
      "1.0016772512061536\n",
      "0.2498067556988214\n",
      "0.4998067183410217\n"
     ]
    },
    {
     "data": {
      "text/plain": [
       "(array([  35.,  206.,  799., 1825., 2532., 2410., 1473.,  564.,  139.,\n",
       "          17.]),\n",
       " array([-0.65945175, -0.31692248,  0.0256068 ,  0.36813608,  0.71066536,\n",
       "         1.05319464,  1.39572392,  1.7382532 ,  2.08078248,  2.42331176,\n",
       "         2.76584104]),\n",
       " <BarContainer object of 10 artists>)"
      ]
     },
     "execution_count": 42,
     "metadata": {},
     "output_type": "execute_result"
    },
    {
     "data": {
      "image/png": "[encoded data removed]",
      "text/plain": [
       "<Figure size 432x288 with 1 Axes>"
      ]
     },
     "metadata": {
      "needs_background": "light"
     },
     "output_type": "display_data"
    }
   ],
   "source": [
    "#Numeros aleatorios,\n",
    "xi = np.random.normal(1,.5)  # Variable aleatoria con media 1 y variancia .5\n",
    "print(xi)\n",
    "   \n",
    "\n",
    "X = np.random.normal(1,.5, 10000)  # Diez mil ocurrencias:\n",
    "print(X.shape)\n",
    "    \n",
    "Xbar = X.mean()\n",
    "print(Xbar)\n",
    "    \n",
    "Sigma2 = sum((Xbar-X)**2)/X.shape[0]\n",
    "print(Sigma2)\n",
    "  \n",
    "Sigma = np.sqrt(Sigma2)\n",
    "print(Sigma)\n",
    "   \n",
    "plt.hist(X)"
   ]
  },
  {
   "cell_type": "code",
   "execution_count": 44,
   "id": "3279945c",
   "metadata": {},
   "outputs": [
    {
     "data": {
      "text/plain": [
       "(array([3.1000e+01, 5.1800e+02, 7.3030e+03, 1.9091e+04, 3.8549e+04,\n",
       "        2.1290e+04, 1.1157e+04, 1.7360e+03, 3.0900e+02, 1.6000e+01]),\n",
       " array([ 4. ,  7.5, 11. , 14.5, 18. , 21.5, 25. , 28.5, 32. , 35.5, 39. ]),\n",
       " <BarContainer object of 10 artists>)"
      ]
     },
     "execution_count": 44,
     "metadata": {},
     "output_type": "execute_result"
    },
    {
     "data": {
      "image/png": "[encoded data removed]",
      "text/plain": [
       "<Figure size 432x288 with 1 Axes>"
      ]
     },
     "metadata": {
      "needs_background": "light"
     },
     "output_type": "display_data"
    }
   ],
   "source": [
    "#Variable aleatoria que proviene de una binomial:\n",
    "X = np.random.binomial(100, 0.2, 100000)  # Variable aleatoria con media 1 y variancia 5\n",
    "plt.hist(X)"
   ]
  },
  {
   "cell_type": "markdown",
   "id": "ef0f6a51",
   "metadata": {},
   "source": [
    "X = np.random.binomial(100, 0.2, 100000) \n",
    "\n",
    "Esto es: 100 eventos, estos eventos cada uno tienen una probabilidad de ocurrir de 0.2/20%. Hazme este ejercicio 100000 veces. "
   ]
  },
  {
   "cell_type": "code",
   "execution_count": 45,
   "id": "57ea6df3",
   "metadata": {},
   "outputs": [
    {
     "data": {
      "text/plain": [
       "0.01165"
      ]
     },
     "execution_count": 45,
     "metadata": {},
     "output_type": "execute_result"
    },
    {
     "data": {
      "image/png": "[encoded data removed]",
      "text/plain": [
       "<Figure size 432x288 with 1 Axes>"
      ]
     },
     "metadata": {
      "needs_background": "light"
     },
     "output_type": "display_data"
    }
   ],
   "source": [
    "#Variable aleatoria que proviene de una binomial:\n",
    "X = np.random.binomial(100, 0.2, 100000)  # Variable aleatoria con media 1 y variancia 5\n",
    "plt.hist(X)\n",
    "(X>=30).mean() # Probabilidad de que la moneda caiga cara 30 veces de las 100\n"
   ]
  },
  {
   "cell_type": "code",
   "execution_count": 46,
   "id": "fdc67398",
   "metadata": {},
   "outputs": [
    {
     "name": "stdout",
     "output_type": "stream",
     "text": [
      "417 veces en 2740 Años\n"
     ]
    }
   ],
   "source": [
    "# Cual es la probabilidad que hayan dos terremotos dos dias seguidos en Perú\n",
    "T = np.random.binomial(1, 0.02, 1000000)  # Variable aleatoria con media 1 y variancia 5\n",
    "\n",
    "ii = 0\n",
    "for dd in range(1,1000000):\n",
    "    if T[dd] == 1 and T[dd-1] == 1:\n",
    "        ii += 1\n",
    "\n",
    "print(str(ii), 'veces en', str(round(1000000/365)), \"Años\")"
   ]
  },
  {
   "cell_type": "code",
   "execution_count": null,
   "id": "fee80e6e",
   "metadata": {},
   "outputs": [],
   "source": []
  }
 ],
 "metadata": {
  "kernelspec": {
   "display_name": "Python 3",
   "language": "python",
   "name": "python3"
  },
  "language_info": {
   "codemirror_mode": {
    "name": "ipython",
    "version": 3
   },
   "file_extension": ".py",
   "mimetype": "text/x-python",
   "name": "python",
   "nbconvert_exporter": "python",
   "pygments_lexer": "ipython3",
   "version": "3.8.8"
  }
 },
 "nbformat": 4,
 "nbformat_minor": 5
}
