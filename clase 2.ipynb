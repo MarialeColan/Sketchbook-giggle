{
 "cells": [
  {
   "cell_type": "markdown",
   "id": "a8c5079e",
   "metadata": {},
   "source": [
    "# Python para Economistas: Segunda Clase"
   ]
  },
  {
   "cell_type": "markdown",
   "id": "30b837bb",
   "metadata": {},
   "source": [
    "**1. Listas**"
   ]
  },
  {
   "cell_type": "markdown",
   "id": "5ec95761",
   "metadata": {},
   "source": [
    " Las listas son objetos mutables e iterables en python. Son muy versátiles pues permiten coleccionar de manera ordenada cualquier objeto (incluso otras listas). Las listas además te permiten acceder a los elementos que contiene adentro utilizando índices. *Las listas van entre corchetes [  ].*"
   ]
  },
  {
   "cell_type": "code",
   "execution_count": 4,
   "id": "e431dd84",
   "metadata": {},
   "outputs": [
    {
     "name": "stdout",
     "output_type": "stream",
     "text": [
      "['manzana', 'banana', 'durazno']\n"
     ]
    }
   ],
   "source": [
    "frutas=['manzana', 'banana', 'durazno']\n",
    "print(frutas)"
   ]
  },
  {
   "cell_type": "code",
   "execution_count": 5,
   "id": "2caf9453",
   "metadata": {},
   "outputs": [
    {
     "name": "stdout",
     "output_type": "stream",
     "text": [
      "['cerdo', 'vaca', 'pollo']\n"
     ]
    }
   ],
   "source": [
    "carnes=list(['cerdo', 'vaca', 'pollo'])\n",
    "print(carnes)"
   ]
  },
  {
   "cell_type": "code",
   "execution_count": 6,
   "id": "3b93c6be",
   "metadata": {},
   "outputs": [
    {
     "name": "stdout",
     "output_type": "stream",
     "text": [
      "[123, ['Python', 'Stata'], 'iPhone']\n"
     ]
    }
   ],
   "source": [
    "mix= [123, ['Python', 'Stata'], 'iPhone']\n",
    "print(mix)"
   ]
  },
  {
   "cell_type": "markdown",
   "id": "10ad2b0e",
   "metadata": {},
   "source": [
    "**2. Asignación como referencia o como valor**"
   ]
  },
  {
   "cell_type": "markdown",
   "id": "cacb3a3a",
   "metadata": {},
   "source": [
    "Muchos cometen el error de 'copiar' una lista de manera directa y luego editarla. El resultado es que todas las ediciones que hagamos en la lista referida se replicaran en la lista original. Esto ocurre cuando asignamos una lista como referencia en lugar de copiarla. Cuando la asignamos como referencia lo unico que hace python es usar el nuevo nombre de variable para referenciar la variable original. Esto permite a python salvar memoria ram porque no estamos creando más objetos en el ambiente de python."
   ]
  },
  {
   "cell_type": "markdown",
   "id": "57b24e7b",
   "metadata": {},
   "source": [
    "Lista como referencia: B es un sobrenombrenombre de A. cualquier cambio a B también se da en A. "
   ]
  },
  {
   "attachments": {
    "image.png": {
     "image/png": "[encoded data removed]"
    }
   },
   "cell_type": "markdown",
   "id": "cefbc4a4",
   "metadata": {},
   "source": [
    "![image.png](attachment:image.png)"
   ]
  },
  {
   "cell_type": "markdown",
   "id": "61d469eb",
   "metadata": {},
   "source": [
    "Lista como valor: A y B, aunque tienen los mismos elementos, son distintas. Si cambio algo en B, A no cambia."
   ]
  },
  {
   "attachments": {
    "image.png": {
     "image/png": "[encoded data removed]"
    }
   },
   "cell_type": "markdown",
   "id": "0fe1483b",
   "metadata": {},
   "source": [
    "![image.png](attachment:image.png)"
   ]
  },
  {
   "cell_type": "code",
   "execution_count": 4,
   "id": "d1697c09",
   "metadata": {},
   "outputs": [
    {
     "name": "stdout",
     "output_type": "stream",
     "text": [
      "miPrimeraLista: [3, 9, 3, 4, 5]\n",
      "miPrimeraLista1: [3, 9, 3, 4, 5]\n",
      "miPrimeraLista2: [1, 2, 3, 4, 5]\n"
     ]
    }
   ],
   "source": [
    "import copy\n",
    "\n",
    "miPrimeraLista= [1, 2, 3, 4, 5]\n",
    "miPrimeraLista1= miPrimeraLista #Esto asigna como referencia\n",
    "miPrimeraLista2= copy.copy(miPrimeraLista) #Esto asigna como valor\n",
    "\n",
    "miPrimeraLista[0]= 3\n",
    "miPrimeraLista[1]= 9\n",
    "\n",
    "print('miPrimeraLista:',miPrimeraLista)\n",
    "print('miPrimeraLista1:',miPrimeraLista1)\n",
    "print('miPrimeraLista2:',miPrimeraLista2)"
   ]
  },
  {
   "cell_type": "markdown",
   "id": "79e014b4",
   "metadata": {},
   "source": [
    "En el caso de listas de listas la función que nos permite copiar el objeto completo es la rutina deepcopy. Basicamente lo que hace deepcopy es copiar como valor no solo la lista inicial, sino tambien las listas que se contienen adentro."
   ]
  },
  {
   "cell_type": "code",
   "execution_count": 6,
   "id": "d507cf20",
   "metadata": {},
   "outputs": [
    {
     "name": "stdout",
     "output_type": "stream",
     "text": [
      "Lista original: [['José', 'Pablo'], [26, 24]]\n",
      "Lista copiada como referencia: [['José', 'Pablo'], [26, 24]]\n",
      "Lista copiada como valor: [['José', 'Pablo'], [26, 25]]\n"
     ]
    }
   ],
   "source": [
    "#List of lists:\n",
    "miSegundaLista= [[\"José\", \"Pablo\"], [26, 25]]\n",
    "miSegundaListaNombres= miSegundaLista #Esto asigna como referencia\n",
    "miSegundaListaNombres2= copy.deepcopy (miSegundaLista) # Deepcopy asigna como valor las listas y sublistas\n",
    "miSegundaLista[1][1] = 24\n",
    "print('Lista original:',miSegundaLista)\n",
    "print('Lista copiada como referencia:',miSegundaListaNombres)\n",
    "print('Lista copiada como valor:',miSegundaListaNombres2)\n"
   ]
  },
  {
   "cell_type": "markdown",
   "id": "bb8b3387",
   "metadata": {},
   "source": [
    "Para eliminar elementos dentro de una lista, podemos indexar el objeto y con el comando del, podemos eliminar dicho objeto."
   ]
  },
  {
   "cell_type": "code",
   "execution_count": 10,
   "id": "f617f99a",
   "metadata": {},
   "outputs": [
    {
     "name": "stdout",
     "output_type": "stream",
     "text": [
      "[['José', 'Pablo']]\n"
     ]
    }
   ],
   "source": [
    "miSegundaLista= [[\"José\", \"Pablo\"], [26, 25]]\n",
    "del miSegundaLista [1]\n",
    "print(miSegundaLista)"
   ]
  },
  {
   "cell_type": "code",
   "execution_count": 11,
   "id": "7622fbbf",
   "metadata": {},
   "outputs": [
    {
     "name": "stdout",
     "output_type": "stream",
     "text": [
      "[1, 2, 3, 4]\n"
     ]
    },
    {
     "data": {
      "text/plain": [
       "[1, 2, 1, 2]"
      ]
     },
     "execution_count": 11,
     "metadata": {},
     "output_type": "execute_result"
    }
   ],
   "source": [
    "#Combinar listas\n",
    "mylist= [1, 2]+[3, 4]\n",
    "print(mylist)\n",
    "[1, 2]*2"
   ]
  },
  {
   "cell_type": "markdown",
   "id": "5aee50e9",
   "metadata": {},
   "source": [
    "**3. Evaluando la existencia de objetos en una lista**"
   ]
  },
  {
   "cell_type": "markdown",
   "id": "efe610da",
   "metadata": {},
   "source": [
    "En python es posible evaluar la membresía de un elemento en colecciones de elementos como listas, sets, diccionarios y tuplas. Para ello existen los comandos \"in\", \"not in\". *Es algo así como un bool*"
   ]
  },
  {
   "cell_type": "markdown",
   "id": "eceeceb4",
   "metadata": {},
   "source": [
    "Así mismo es posible evaluar si un objeto en python es identico a otro. Esta rutina evalúa si un objeto tiene el mismo valor y propiedades que otro, para ello se usa la rutina \"is\"."
   ]
  },
  {
   "cell_type": "code",
   "execution_count": 12,
   "id": "f8807b10",
   "metadata": {},
   "outputs": [
    {
     "name": "stdout",
     "output_type": "stream",
     "text": [
      "[1, 2, 3, 4]\n",
      "True\n",
      "False\n",
      "False\n",
      "True\n"
     ]
    }
   ],
   "source": [
    "# Evaluar si un objeto se encuentra en una lista\n",
    "print(mylist)\n",
    "print(1 in mylist)\n",
    "print(5 in mylist)\n",
    "print(1 not in mylist)\n",
    "print(5 not in mylist)"
   ]
  },
  {
   "cell_type": "code",
   "execution_count": 17,
   "id": "99b61547",
   "metadata": {},
   "outputs": [
    {
     "name": "stdout",
     "output_type": "stream",
     "text": [
      "True\n",
      "False\n"
     ]
    },
    {
     "name": "stderr",
     "output_type": "stream",
     "text": [
      "<>:1: SyntaxWarning: \"is\" with a literal. Did you mean \"==\"?\n",
      "<>:2: SyntaxWarning: \"is\" with a literal. Did you mean \"==\"?\n",
      "<>:1: SyntaxWarning: \"is\" with a literal. Did you mean \"==\"?\n",
      "<>:2: SyntaxWarning: \"is\" with a literal. Did you mean \"==\"?\n",
      "<ipython-input-17-f9ca8152a1bd>:1: SyntaxWarning: \"is\" with a literal. Did you mean \"==\"?\n",
      "  print(5 is 5)\n",
      "<ipython-input-17-f9ca8152a1bd>:2: SyntaxWarning: \"is\" with a literal. Did you mean \"==\"?\n",
      "  print(5 is 5.)\n"
     ]
    }
   ],
   "source": [
    "print(5 is 5)\n",
    "print(5 is 5.)"
   ]
  },
  {
   "cell_type": "markdown",
   "id": "27a1b83d",
   "metadata": {},
   "source": [
    "**4. Otros metodos para modificar listas**"
   ]
  },
  {
   "cell_type": "markdown",
   "id": "f6f7588b",
   "metadata": {},
   "source": [
    "Existen además otros métodos que nos permiten modificar las listas (tmb revisar sus características). Por ejemplo, podemos obtener el valor máximo, el mínimo, el tamaño de la lista, así como tambien podemos agregar y remover elementos a una lista."
   ]
  },
  {
   "cell_type": "code",
   "execution_count": 19,
   "id": "154d73be",
   "metadata": {},
   "outputs": [
    {
     "name": "stdout",
     "output_type": "stream",
     "text": [
      "4\n",
      "1\n",
      "4\n"
     ]
    }
   ],
   "source": [
    "#Métodos en listas\n",
    "print(len(mylist)) #Tamaño de la lista\n",
    "print(min(mylist)) #Valor mínimo de la lista\n",
    "print(max(mylist)) #Valor máximo de la lista"
   ]
  },
  {
   "cell_type": "code",
   "execution_count": 25,
   "id": "8953ea12",
   "metadata": {},
   "outputs": [
    {
     "data": {
      "text/plain": [
       "[1, 2, 3, 4, 5, 5, 5, 5, 5, 5]"
      ]
     },
     "execution_count": 25,
     "metadata": {},
     "output_type": "execute_result"
    }
   ],
   "source": [
    "# Metodos para agregar y eliminar elementos de una lista\n",
    "mylist.append(5) #Agregar elemento\n",
    "mylist"
   ]
  },
  {
   "cell_type": "code",
   "execution_count": 31,
   "id": "c985359e",
   "metadata": {},
   "outputs": [
    {
     "data": {
      "text/plain": [
       "[1, 2, 3, 4, 5]"
      ]
     },
     "execution_count": 31,
     "metadata": {},
     "output_type": "execute_result"
    }
   ],
   "source": [
    "mylist.remove(5) # Remover elemento\n",
    "mylist"
   ]
  },
  {
   "cell_type": "code",
   "execution_count": 32,
   "id": "03f29342",
   "metadata": {},
   "outputs": [
    {
     "data": {
      "text/plain": [
       "[1, 2, 3, 4, 5, [6, 7]]"
      ]
     },
     "execution_count": 32,
     "metadata": {},
     "output_type": "execute_result"
    }
   ],
   "source": [
    "mylist.append([6,7])\n",
    "mylist"
   ]
  },
  {
   "cell_type": "code",
   "execution_count": 33,
   "id": "281c49e5",
   "metadata": {},
   "outputs": [
    {
     "data": {
      "text/plain": [
       "[1, 2, 3, 4, 5]"
      ]
     },
     "execution_count": 33,
     "metadata": {},
     "output_type": "execute_result"
    }
   ],
   "source": [
    "mylist.remove([6,7])\n",
    "mylist"
   ]
  },
  {
   "cell_type": "code",
   "execution_count": 34,
   "id": "26a8618c",
   "metadata": {},
   "outputs": [
    {
     "data": {
      "text/plain": [
       "[1, 2, 3, 4, 5, 6, 7]"
      ]
     },
     "execution_count": 34,
     "metadata": {},
     "output_type": "execute_result"
    }
   ],
   "source": [
    "mylist.extend([6,7]) # Extender lista con más elementos\n",
    "mylist"
   ]
  },
  {
   "cell_type": "code",
   "execution_count": 35,
   "id": "95027d66",
   "metadata": {},
   "outputs": [
    {
     "data": {
      "text/plain": [
       "[1, 10, 2, 3, 4, 5, 6, 7]"
      ]
     },
     "execution_count": 35,
     "metadata": {},
     "output_type": "execute_result"
    }
   ],
   "source": [
    "mylist.insert(1,10) # insert element to a list at a location other than the end\n",
    "mylist"
   ]
  },
  {
   "cell_type": "code",
   "execution_count": 36,
   "id": "6376880d",
   "metadata": {},
   "outputs": [
    {
     "name": "stdout",
     "output_type": "stream",
     "text": [
      "[1, 2, 3, 4, 5, 6, 7, 10]\n"
     ]
    },
    {
     "data": {
      "text/plain": [
       "1"
      ]
     },
     "execution_count": 36,
     "metadata": {},
     "output_type": "execute_result"
    }
   ],
   "source": [
    "mylist.sort()\n",
    "print(mylist) # Ordenar lista de menor a mayor\n",
    "mylist.index(2) # Retorna el indice del valor que solicitamos"
   ]
  },
  {
   "cell_type": "markdown",
   "id": "10cfc6b8",
   "metadata": {},
   "source": [
    "**4. Trabajando con tuplas**"
   ]
  },
  {
   "cell_type": "markdown",
   "id": "8b19ca2d",
   "metadata": {},
   "source": [
    " Las tuplas son colecciones ordenadas de elementos que son inmutables. El beneficio de que sea inmutable es que definir una tupla requiere poca memoria ram pues no tiene muchas rutinas asociadas a comparación de las listas. Usualmente definimos las tuplas entre paréntesis \"(,)\"."
   ]
  },
  {
   "cell_type": "code",
   "execution_count": 39,
   "id": "6c8c7b8f",
   "metadata": {},
   "outputs": [
    {
     "ename": "SyntaxError",
     "evalue": "invalid syntax (<ipython-input-39-ee328260c9da>, line 4)",
     "output_type": "error",
     "traceback": [
      "\u001b[1;36m  File \u001b[1;32m\"<ipython-input-39-ee328260c9da>\"\u001b[1;36m, line \u001b[1;32m4\u001b[0m\n\u001b[1;33m    myList= list [i for i in range(1000)]\u001b[0m\n\u001b[1;37m                    ^\u001b[0m\n\u001b[1;31mSyntaxError\u001b[0m\u001b[1;31m:\u001b[0m invalid syntax\n"
     ]
    }
   ],
   "source": [
    "import sys\n",
    "#Uso de ram para tuplas vs las listas:\n",
    "myTuple= tuple([i for i in range(1000)]) # tuple desde el 0 al 1000\n",
    "myList= list [i for i in range(1000)]\n",
    "print(sys.getsizeof(myTuple))\n",
    "print(sys.getsizeof(myList))"
   ]
  },
  {
   "cell_type": "code",
   "execution_count": 40,
   "id": "08760292",
   "metadata": {},
   "outputs": [
    {
     "name": "stdout",
     "output_type": "stream",
     "text": [
      "(1, 2, 3)\n"
     ]
    },
    {
     "data": {
      "text/plain": [
       "tuple"
      ]
     },
     "execution_count": 40,
     "metadata": {},
     "output_type": "execute_result"
    }
   ],
   "source": [
    "#Evaluando el tipo de elemento\n",
    "myTuple = 1,2,3\n",
    "print(myTuple)\n",
    "type(myTuple)"
   ]
  },
  {
   "cell_type": "code",
   "execution_count": 41,
   "id": "46803c5d",
   "metadata": {},
   "outputs": [
    {
     "data": {
      "text/plain": [
       "(1, 2)"
      ]
     },
     "execution_count": 41,
     "metadata": {},
     "output_type": "execute_result"
    }
   ],
   "source": [
    "# Convirtiendo una lista en tuple\n",
    "tuple([1, 2])"
   ]
  },
  {
   "cell_type": "code",
   "execution_count": 42,
   "id": "f3f113a4",
   "metadata": {},
   "outputs": [
    {
     "data": {
      "text/plain": [
       "1"
      ]
     },
     "execution_count": 42,
     "metadata": {},
     "output_type": "execute_result"
    }
   ],
   "source": [
    "# Indexando una tupla\n",
    "myTuple[0]"
   ]
  },
  {
   "cell_type": "markdown",
   "id": "b4c1f05e",
   "metadata": {},
   "source": [
    "**5. Diccionarios**"
   ]
  },
  {
   "cell_type": "markdown",
   "id": "7e9fe76d",
   "metadata": {},
   "source": [
    "Los diccionarios son colecciones de elementos de manera no ordenada, son mutables y posibles de indexar. En python la forma de crear diccionarios es usando llaves \"{ }\". Los diccionarios se utilizan para elaborar estructuras de datos que contienen multiples objetos y usualmente se pueden referenciar on un \"key name\" que suele ser un string. Por lo general los diccionarios siguen la siguiente estructura:"
   ]
  },
  {
   "cell_type": "markdown",
   "id": "5cc84aa6",
   "metadata": {},
   "source": [
    "dictorinary = { 'key1': obj1,"
   ]
  },
  {
   "cell_type": "markdown",
   "id": "618b9e8d",
   "metadata": {},
   "source": [
    "          'key2': obj2,        "
   ]
  },
  {
   "cell_type": "markdown",
   "id": "ce79c5d5",
   "metadata": {},
   "source": [
    "          'key3': obj3}"
   ]
  },
  {
   "cell_type": "code",
   "execution_count": 45,
   "id": "474edf92",
   "metadata": {},
   "outputs": [
    {
     "name": "stdout",
     "output_type": "stream",
     "text": [
      "perro\n"
     ]
    }
   ],
   "source": [
    "#Diccionarios\n",
    "miDic={}\n",
    "miDic={'a':'perro', 'b':'gato'}\n",
    "print(miDic['a'])"
   ]
  },
  {
   "cell_type": "code",
   "execution_count": 46,
   "id": "09febacc",
   "metadata": {},
   "outputs": [
    {
     "name": "stdout",
     "output_type": "stream",
     "text": [
      "{'a': 'canario', 'b': 'gato', 'c': 'conejo'}\n"
     ]
    }
   ],
   "source": [
    "miDic['a']= 'canario'\n",
    "miDic['c']= 'conejo'\n",
    "print(miDic)"
   ]
  },
  {
   "cell_type": "code",
   "execution_count": 47,
   "id": "1279b0bc",
   "metadata": {},
   "outputs": [
    {
     "name": "stdout",
     "output_type": "stream",
     "text": [
      "True False\n"
     ]
    }
   ],
   "source": [
    "#Acceder a llaves (keys) en los diccionarios\n",
    "print('a' in miDic,\n",
    "     'canario' in miDic)"
   ]
  },
  {
   "cell_type": "code",
   "execution_count": 49,
   "id": "98c72038",
   "metadata": {},
   "outputs": [
    {
     "data": {
      "text/plain": [
       "['a', 'b', 'c']"
      ]
     },
     "execution_count": 49,
     "metadata": {},
     "output_type": "execute_result"
    }
   ],
   "source": [
    "list(miDic)"
   ]
  },
  {
   "cell_type": "code",
   "execution_count": 51,
   "id": "455b6747",
   "metadata": {},
   "outputs": [
    {
     "data": {
      "text/plain": [
       "dict_keys(['a', 'b', 'c'])"
      ]
     },
     "execution_count": 51,
     "metadata": {},
     "output_type": "execute_result"
    }
   ],
   "source": [
    "miDic.keys()"
   ]
  },
  {
   "cell_type": "code",
   "execution_count": 52,
   "id": "5c764439",
   "metadata": {},
   "outputs": [
    {
     "data": {
      "text/plain": [
       "dict_values(['canario', 'gato', 'conejo'])"
      ]
     },
     "execution_count": 52,
     "metadata": {},
     "output_type": "execute_result"
    }
   ],
   "source": [
    "miDic.values()"
   ]
  },
  {
   "cell_type": "code",
   "execution_count": 54,
   "id": "926bb197",
   "metadata": {},
   "outputs": [
    {
     "data": {
      "text/plain": [
       "dict_items([('a', 'canario'), ('b', 'gato'), ('c', 'conejo')])"
      ]
     },
     "execution_count": 54,
     "metadata": {},
     "output_type": "execute_result"
    }
   ],
   "source": [
    "miDic.items() #(llaves, objetos)"
   ]
  }
 ],
 "metadata": {
  "kernelspec": {
   "display_name": "Python 3",
   "language": "python",
   "name": "python3"
  },
  "language_info": {
   "codemirror_mode": {
    "name": "ipython",
    "version": 3
   },
   "file_extension": ".py",
   "mimetype": "text/x-python",
   "name": "python",
   "nbconvert_exporter": "python",
   "pygments_lexer": "ipython3",
   "version": "3.8.8"
  }
 },
 "nbformat": 4,
 "nbformat_minor": 5
}
