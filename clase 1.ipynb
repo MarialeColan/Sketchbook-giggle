{
 "cells": [
  {
   "cell_type": "markdown",
   "id": "24cda6e4",
   "metadata": {},
   "source": [
    "# Python para economistas: Primera Clase"
   ]
  },
  {
   "cell_type": "markdown",
   "id": "435ad267",
   "metadata": {},
   "source": [
    "**1. Values y variable names**"
   ]
  },
  {
   "cell_type": "markdown",
   "id": "304e4795",
   "metadata": {},
   "source": [
    "En python es importante distinguir entre valores y nombres de variables.\n",
    "Los valores más básicos con los que se puede trabajar en python son integers (enteros), floats (fracciones) y strings (texto)."
   ]
  },
  {
   "cell_type": "code",
   "execution_count": 1,
   "id": "33487994",
   "metadata": {
    "scrolled": false
   },
   "outputs": [
    {
     "name": "stdout",
     "output_type": "stream",
     "text": [
      "Mariale Colán\n"
     ]
    }
   ],
   "source": [
    "print (\"Mariale Colán\") #string"
   ]
  },
  {
   "cell_type": "code",
   "execution_count": 2,
   "id": "3af71bd4",
   "metadata": {},
   "outputs": [
    {
     "data": {
      "text/plain": [
       "1"
      ]
     },
     "execution_count": 2,
     "metadata": {},
     "output_type": "execute_result"
    }
   ],
   "source": [
    "1 #integrer"
   ]
  },
  {
   "cell_type": "code",
   "execution_count": 3,
   "id": "c8709a7e",
   "metadata": {},
   "outputs": [
    {
     "data": {
      "text/plain": [
       "2.0"
      ]
     },
     "execution_count": 3,
     "metadata": {},
     "output_type": "execute_result"
    }
   ],
   "source": [
    "2. #float"
   ]
  },
  {
   "cell_type": "markdown",
   "id": "1d7b951d",
   "metadata": {},
   "source": [
    "A estos valores usulamente queremos asignarle un nombre (variable name) para luego referirnos a el en siguientes operaciones. En el siguiente ejemplo nombramos el valor string \\\"Mariale Colán\\\" como \\\"nombre\\\". Luego usamos la función print para revelar o imprimir que es lo que contiene 'nombre'.\""
   ]
  },
  {
   "cell_type": "code",
   "execution_count": 4,
   "id": "44dab078",
   "metadata": {},
   "outputs": [
    {
     "name": "stdout",
     "output_type": "stream",
     "text": [
      "Mariale Colán\n"
     ]
    }
   ],
   "source": [
    "firstName= \"Mariale\"\n",
    "lastName= \"Colán\"\n",
    "print (firstName, lastName)"
   ]
  },
  {
   "cell_type": "markdown",
   "id": "b11e2e8c",
   "metadata": {},
   "source": [
    "**2. Operaciones con strings**"
   ]
  },
  {
   "cell_type": "markdown",
   "id": "131c8343",
   "metadata": {},
   "source": [
    "Podemos además llamar las variables que creamos y hacer operaciones con ellas. En el siguiente ejemplo juntamos strings."
   ]
  },
  {
   "cell_type": "code",
   "execution_count": 5,
   "id": "fbd7e683",
   "metadata": {},
   "outputs": [
    {
     "name": "stdout",
     "output_type": "stream",
     "text": [
      "Mariale Colán\n"
     ]
    }
   ],
   "source": [
    "fullName= firstName + ' ' + lastName\n",
    "print (fullName)"
   ]
  },
  {
   "cell_type": "markdown",
   "id": "e41dee72",
   "metadata": {},
   "source": [
    "**3. Numeros y operaciones con numeros**"
   ]
  },
  {
   "cell_type": "markdown",
   "id": "c67c9b33",
   "metadata": {},
   "source": [
    "Así mismo podemos realizar operaciones con integers (números enteros), floats (números reales) y otros objetos. Esto se puede realizar sin la necesidad de asignarles un nombre de variable, en este caso la operacion crea un objeto temporal que es visualizado en el kernel."
   ]
  },
  {
   "cell_type": "code",
   "execution_count": 6,
   "id": "17c4bbb9",
   "metadata": {},
   "outputs": [
    {
     "name": "stdout",
     "output_type": "stream",
     "text": [
      "3 3 1 6 2.0 16 1 2 4.5 True False\n"
     ]
    }
   ],
   "source": [
    " print(\n",
    "     3,\n",
    "     1+2,\n",
    "     2-1,\n",
    "     2*3,\n",
    "     4/2,\n",
    "     4**2,\n",
    "     4%3,\n",
    "     5//2,\n",
    "     4.5, #float:\n",
    "     True,\n",
    "     False)"
   ]
  },
  {
   "cell_type": "markdown",
   "id": "7981c0d4",
   "metadata": {},
   "source": [
    "escribir un número\n",
    "suma +\n",
    "resta -\n",
    "multiplicación *\n",
    "división /\n",
    "potencia **\n",
    "evaluar el residuo de dividir 4 entre 3 (4%3)\n",
    "cociente de la división //\n",
    "float aka número real: se separa por un \".\". Ejemplo: 4.5 "
   ]
  },
  {
   "cell_type": "markdown",
   "id": "04a39d6a",
   "metadata": {},
   "source": [
    "**4. Tipos de objetos**"
   ]
  },
  {
   "cell_type": "markdown",
   "id": "9a5b585c",
   "metadata": {},
   "source": [
    "Python te permite examinar el tipo de elemento con la funcion type(). Los tipos más basicos son int, float, str y bool.\n",
    "*Bool* : variable que sólo puede tomar dos posibles valores: True (verdadero) o False (falso)"
   ]
  },
  {
   "cell_type": "code",
   "execution_count": 7,
   "id": "d640ea66",
   "metadata": {},
   "outputs": [
    {
     "data": {
      "text/plain": [
       "int"
      ]
     },
     "execution_count": 7,
     "metadata": {},
     "output_type": "execute_result"
    }
   ],
   "source": [
    "type (3)"
   ]
  },
  {
   "cell_type": "code",
   "execution_count": 8,
   "id": "560390f8",
   "metadata": {},
   "outputs": [
    {
     "data": {
      "text/plain": [
       "float"
      ]
     },
     "execution_count": 8,
     "metadata": {},
     "output_type": "execute_result"
    }
   ],
   "source": [
    "type (3.)"
   ]
  },
  {
   "cell_type": "code",
   "execution_count": 9,
   "id": "467fb952",
   "metadata": {},
   "outputs": [
    {
     "data": {
      "text/plain": [
       "str"
      ]
     },
     "execution_count": 9,
     "metadata": {},
     "output_type": "execute_result"
    }
   ],
   "source": [
    "type (\"3.\")"
   ]
  },
  {
   "cell_type": "code",
   "execution_count": 10,
   "id": "6ac5cd98",
   "metadata": {},
   "outputs": [
    {
     "data": {
      "text/plain": [
       "bool"
      ]
     },
     "execution_count": 10,
     "metadata": {},
     "output_type": "execute_result"
    }
   ],
   "source": [
    "type (True)"
   ]
  },
  {
   "cell_type": "markdown",
   "id": "8d37a36a",
   "metadata": {},
   "source": [
    "**5. Cambio de tipo de elementos**"
   ]
  },
  {
   "cell_type": "markdown",
   "id": "b5719007",
   "metadata": {},
   "source": [
    "Es posible además cambiar de tipo los elementos que querramos. Por ejemplo cambiar float a int para ahorrar memoria ram."
   ]
  },
  {
   "cell_type": "code",
   "execution_count": 11,
   "id": "7479ff5e",
   "metadata": {},
   "outputs": [
    {
     "data": {
      "text/plain": [
       "4"
      ]
     },
     "execution_count": 11,
     "metadata": {},
     "output_type": "execute_result"
    }
   ],
   "source": [
    "int(4.5)"
   ]
  },
  {
   "cell_type": "code",
   "execution_count": 12,
   "id": "708091ee",
   "metadata": {},
   "outputs": [
    {
     "data": {
      "text/plain": [
       "1"
      ]
     },
     "execution_count": 12,
     "metadata": {},
     "output_type": "execute_result"
    }
   ],
   "source": [
    "int(True)"
   ]
  },
  {
   "cell_type": "code",
   "execution_count": 13,
   "id": "90fd56cc",
   "metadata": {},
   "outputs": [
    {
     "data": {
      "text/plain": [
       "0"
      ]
     },
     "execution_count": 13,
     "metadata": {},
     "output_type": "execute_result"
    }
   ],
   "source": [
    "int(False)"
   ]
  },
  {
   "cell_type": "code",
   "execution_count": 14,
   "id": "5ac7ce3c",
   "metadata": {},
   "outputs": [
    {
     "data": {
      "text/plain": [
       "1.0"
      ]
     },
     "execution_count": 14,
     "metadata": {},
     "output_type": "execute_result"
    }
   ],
   "source": [
    "float(True)"
   ]
  },
  {
   "cell_type": "code",
   "execution_count": 15,
   "id": "e48d0e65",
   "metadata": {},
   "outputs": [
    {
     "data": {
      "text/plain": [
       "3.0"
      ]
     },
     "execution_count": 15,
     "metadata": {},
     "output_type": "execute_result"
    }
   ],
   "source": [
    "float(3)"
   ]
  },
  {
   "cell_type": "markdown",
   "id": "0d9a1447",
   "metadata": {},
   "source": [
    "Cambiar de tipo un objeto en el caso de números es dinstinto a redondearlos. Para redondearlos matemáticamente usamos la **función round()**."
   ]
  },
  {
   "cell_type": "markdown",
   "id": "c91f9520",
   "metadata": {},
   "source": [
    "Cuando ponemos int(4.51) no se redondea a --> 5, el número se trunca y el resultado es --> 4"
   ]
  },
  {
   "cell_type": "markdown",
   "id": "1d01ce79",
   "metadata": {},
   "source": [
    "4.5 se redondea a 4. 4.51 se redondea a 5."
   ]
  },
  {
   "cell_type": "markdown",
   "id": "624aa20d",
   "metadata": {},
   "source": [
    "**6. Redondear Numeros y otras operaciones**"
   ]
  },
  {
   "cell_type": "markdown",
   "id": "a84ef6c5",
   "metadata": {},
   "source": [
    "También podemos aplicar distintas funciones básicas predetermidas en python para ejecutar operaciones en numeros."
   ]
  },
  {
   "cell_type": "code",
   "execution_count": 16,
   "id": "4501d70a",
   "metadata": {
    "scrolled": true
   },
   "outputs": [
    {
     "name": "stdout",
     "output_type": "stream",
     "text": [
      "4 5\n"
     ]
    }
   ],
   "source": [
    "round(4.5),\n",
    "round(4.51),\n",
    "print(round(4.5), round(4.51))"
   ]
  },
  {
   "cell_type": "code",
   "execution_count": 17,
   "id": "debc094d",
   "metadata": {},
   "outputs": [
    {
     "name": "stdout",
     "output_type": "stream",
     "text": [
      "5 4\n"
     ]
    }
   ],
   "source": [
    "print(round(4.51), int(4.51))"
   ]
  },
  {
   "cell_type": "code",
   "execution_count": 18,
   "id": "738b0b9a",
   "metadata": {},
   "outputs": [
    {
     "data": {
      "text/plain": [
       "2"
      ]
     },
     "execution_count": 18,
     "metadata": {},
     "output_type": "execute_result"
    }
   ],
   "source": [
    "abs(-2) #valor absoluto"
   ]
  },
  {
   "cell_type": "code",
   "execution_count": 19,
   "id": "b669c08f",
   "metadata": {},
   "outputs": [
    {
     "data": {
      "text/plain": [
       "(2, 1)"
      ]
     },
     "execution_count": 19,
     "metadata": {},
     "output_type": "execute_result"
    }
   ],
   "source": [
    "divmod(9,4) #Coeficiente y residuo"
   ]
  },
  {
   "cell_type": "code",
   "execution_count": 20,
   "id": "c7eaf959",
   "metadata": {},
   "outputs": [
    {
     "data": {
      "text/plain": [
       "8"
      ]
     },
     "execution_count": 20,
     "metadata": {},
     "output_type": "execute_result"
    }
   ],
   "source": [
    "pow(2,3) #2^3"
   ]
  },
  {
   "cell_type": "markdown",
   "id": "d78334cb",
   "metadata": {},
   "source": [
    "**7. Pedir insumos al usuario**"
   ]
  },
  {
   "cell_type": "markdown",
   "id": "440d1991",
   "metadata": {},
   "source": [
    "Podemos pedir a python que interactue con  el usuario. En este python pide al usuario que introduzca un numero."
   ]
  },
  {
   "cell_type": "code",
   "execution_count": 21,
   "id": "177eba19",
   "metadata": {},
   "outputs": [
    {
     "name": "stdout",
     "output_type": "stream",
     "text": [
      "Tell me a beautiful number3\n",
      "3\n"
     ]
    }
   ],
   "source": [
    "beautiful_number= input(\"Tell me a beautiful number\")\n",
    "print(beautiful_number)"
   ]
  },
  {
   "cell_type": "markdown",
   "id": "3d658f25",
   "metadata": {},
   "source": [
    "**9. Listas y strings**"
   ]
  },
  {
   "cell_type": "markdown",
   "id": "c567d176",
   "metadata": {},
   "source": [
    "Las listas son colecciones de elementos *del mismo o distinto tipo* de manera ordenada, las listas por lo general se introducen entre brackets [obj1, obj2]. En este caso, los strings tambien son listas donde cada caracter en el string es un elemento de la lista."
   ]
  },
  {
   "cell_type": "code",
   "execution_count": 22,
   "id": "db7ba6cb",
   "metadata": {},
   "outputs": [
    {
     "data": {
      "text/plain": [
       "[1, 2, 3, 4]"
      ]
     },
     "execution_count": 22,
     "metadata": {},
     "output_type": "execute_result"
    }
   ],
   "source": [
    "[1,2,3,4]"
   ]
  },
  {
   "cell_type": "code",
   "execution_count": 23,
   "id": "0add35ef",
   "metadata": {},
   "outputs": [
    {
     "data": {
      "text/plain": [
       "['I', 'N', 'F', 'O', 'X']"
      ]
     },
     "execution_count": 23,
     "metadata": {},
     "output_type": "execute_result"
    }
   ],
   "source": [
    "nombre='INFOX'\n",
    "list(nombre)"
   ]
  },
  {
   "cell_type": "code",
   "execution_count": 24,
   "id": "19e8700a",
   "metadata": {},
   "outputs": [
    {
     "data": {
      "text/plain": [
       "[1, 1, 1, 1, 1]"
      ]
     },
     "execution_count": 24,
     "metadata": {},
     "output_type": "execute_result"
    }
   ],
   "source": [
    "[1]*5"
   ]
  },
  {
   "cell_type": "code",
   "execution_count": 25,
   "id": "cc73e9bc",
   "metadata": {},
   "outputs": [
    {
     "name": "stdout",
     "output_type": "stream",
     "text": [
      "aaaaa\n"
     ]
    }
   ],
   "source": [
    "print(\"a\"*5)"
   ]
  },
  {
   "cell_type": "markdown",
   "id": "48e0b07e",
   "metadata": {},
   "source": [
    "**10. Indexando y cortando listas**"
   ]
  },
  {
   "cell_type": "markdown",
   "id": "1056887e",
   "metadata": {},
   "source": [
    "Es posible además indexar y cortar una lista. Cuando hablamos de indexar una lista -de tamaño N- básicamente lo que hacemos es quedarnos con el elemento número i de la lista, donde i es el orden que va de 0 hasta N. "
   ]
  },
  {
   "cell_type": "markdown",
   "id": "0a2d245f",
   "metadata": {},
   "source": [
    "Cuando dice [:] es print todo. CUando los números son negativos, lee la palabra al revés."
   ]
  },
  {
   "cell_type": "code",
   "execution_count": 26,
   "id": "ad32766f",
   "metadata": {},
   "outputs": [
    {
     "name": "stdout",
     "output_type": "stream",
     "text": [
      "1. Mariale Colán\n"
     ]
    }
   ],
   "source": [
    "print('1.',fullName),"
   ]
  },
  {
   "cell_type": "code",
   "execution_count": 27,
   "id": "b6d3965f",
   "metadata": {},
   "outputs": [
    {
     "name": "stdout",
     "output_type": "stream",
     "text": [
      "2. M\n"
     ]
    }
   ],
   "source": [
    "print('2.',fullName[0])"
   ]
  },
  {
   "cell_type": "code",
   "execution_count": 28,
   "id": "d7746926",
   "metadata": {},
   "outputs": [
    {
     "name": "stdout",
     "output_type": "stream",
     "text": [
      "3. ariale\n"
     ]
    }
   ],
   "source": [
    "print('3.',fullName[1:7])"
   ]
  },
  {
   "cell_type": "code",
   "execution_count": 29,
   "id": "bff7609b",
   "metadata": {},
   "outputs": [
    {
     "name": "stdout",
     "output_type": "stream",
     "text": [
      "4. Mariale\n"
     ]
    }
   ],
   "source": [
    "print('4.',fullName[0:7])"
   ]
  },
  {
   "cell_type": "code",
   "execution_count": 30,
   "id": "1a389dd8",
   "metadata": {},
   "outputs": [
    {
     "name": "stdout",
     "output_type": "stream",
     "text": [
      "5. Marial\n"
     ]
    }
   ],
   "source": [
    "print('5.',fullName[:6])"
   ]
  },
  {
   "cell_type": "code",
   "execution_count": 31,
   "id": "bcaf87c5",
   "metadata": {},
   "outputs": [
    {
     "name": "stdout",
     "output_type": "stream",
     "text": [
      "6. e\n"
     ]
    }
   ],
   "source": [
    "print('6.',fullName[0:7][-1])"
   ]
  },
  {
   "cell_type": "code",
   "execution_count": 32,
   "id": "5b2652a7",
   "metadata": {},
   "outputs": [
    {
     "name": "stdout",
     "output_type": "stream",
     "text": [
      "7. Mariale Colán\n"
     ]
    }
   ],
   "source": [
    "print('7.',fullName[:])"
   ]
  },
  {
   "cell_type": "markdown",
   "id": "20cddcb1",
   "metadata": {},
   "source": [
    " Además, podemos dividir un string en función de algun caracter en el string, en este caso dividiremos el string en cada espacio con la función split(). En la funcion introducimos el caracter que hara la división del string varios substrings."
   ]
  },
  {
   "cell_type": "code",
   "execution_count": 45,
   "id": "696fb2e6",
   "metadata": {},
   "outputs": [
    {
     "name": "stdout",
     "output_type": "stream",
     "text": [
      "['I', 'am', 'learning', 'Python'] ['I', 'am learning Python']\n"
     ]
    }
   ],
   "source": [
    "str0 = 'I am learning Python'\n",
    "\n",
    "str1 = str0.split(' ')\n",
    "str2 = str0.split(' ', maxsplit=1)\n",
    "print(str1, str2)"
   ]
  },
  {
   "cell_type": "markdown",
   "id": "26ce9041",
   "metadata": {},
   "source": [
    "También es posible unir strings"
   ]
  },
  {
   "cell_type": "code",
   "execution_count": 41,
   "id": "07c204bd",
   "metadata": {},
   "outputs": [
    {
     "name": "stdout",
     "output_type": "stream",
     "text": [
      "Carne, Pollo, Cerdo, Pescado\n"
     ]
    }
   ],
   "source": [
    "proteinalist = ['Carne', 'Pollo', 'Cerdo', 'Pescado']\n",
    "proteinas = ', '.join(proteinalist)\n",
    "print(proteinas)"
   ]
  },
  {
   "cell_type": "code",
   "execution_count": 43,
   "id": "7b63d53c",
   "metadata": {},
   "outputs": [
    {
     "data": {
      "text/plain": [
       "'carne, pollo, cerdo, pescado'"
      ]
     },
     "execution_count": 43,
     "metadata": {},
     "output_type": "execute_result"
    }
   ],
   "source": [
    "proteinas.upper() # Cambiar string a mayusculas"
   ]
  },
  {
   "cell_type": "code",
   "execution_count": 44,
   "id": "0fc5396d",
   "metadata": {},
   "outputs": [
    {
     "data": {
      "text/plain": [
       "'carne, pollo, cerdo, pescado'"
      ]
     },
     "execution_count": 44,
     "metadata": {},
     "output_type": "execute_result"
    }
   ],
   "source": [
    "proteinas.lower() # Cambiar string a mayusculas"
   ]
  },
  {
   "cell_type": "markdown",
   "id": "57ecde63",
   "metadata": {},
   "source": [
    "Formateando Strings"
   ]
  },
  {
   "cell_type": "code",
   "execution_count": 49,
   "id": "f8ea0282",
   "metadata": {},
   "outputs": [
    {
     "name": "stdout",
     "output_type": "stream",
     "text": [
      "one, two\n",
      "1, 2\n",
      "1.000000, 2.000000\n",
      "2\n",
      "2 1\n"
     ]
    }
   ],
   "source": [
    "numbers = '%s, %s' % ('one', 'two')\n",
    "print(numbers)\n",
    "numbers = '%i, %i' % (1, 2)\n",
    "print(numbers)\n",
    "numbers = '%f, %f' % (1, 2)\n",
    "print(numbers)\n",
    "print('{}'.format(2))\n",
    "print('{1} {0}'.format(1,2))"
   ]
  },
  {
   "cell_type": "markdown",
   "id": "56a99637",
   "metadata": {},
   "source": [
    "**11. Mas operaciones**"
   ]
  },
  {
   "cell_type": "code",
   "execution_count": 48,
   "id": "a84c2f72",
   "metadata": {},
   "outputs": [
    {
     "name": "stdout",
     "output_type": "stream",
     "text": [
      "1.3862943611198906\n"
     ]
    }
   ],
   "source": [
    "import math\n",
    "pi = math.pi\n",
    "eps = math.e\n",
    "sq4 = math.sqrt(4)\n",
    "math.exp(2)\n",
    "math.log(4)\n",
    "print(math.log(4))"
   ]
  }
 ],
 "metadata": {
  "kernelspec": {
   "display_name": "Python 3",
   "language": "python",
   "name": "python3"
  },
  "language_info": {
   "codemirror_mode": {
    "name": "ipython",
    "version": 3
   },
   "file_extension": ".py",
   "mimetype": "text/x-python",
   "name": "python",
   "nbconvert_exporter": "python",
   "pygments_lexer": "ipython3",
   "version": "3.8.8"
  }
 },
 "nbformat": 4,
 "nbformat_minor": 5
}
