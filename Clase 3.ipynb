{
 "cells": [
  {
   "cell_type": "markdown",
   "id": "85abdc98",
   "metadata": {},
   "source": [
    "# Python para Economistas: Tercera Clase"
   ]
  },
  {
   "cell_type": "markdown",
   "id": "fbc6c4e6",
   "metadata": {},
   "source": [
    "**1.Expresiones Booleanas**"
   ]
  },
  {
   "cell_type": "markdown",
   "id": "d4c21c49",
   "metadata": {},
   "source": [
    "A veces es necesario saber si una expresión es **Verdadera o Falso**. Para ello existen multiples comandos en Python que nos permiten evaluar sentencias como por ejemplo, igualdades, desigualdades, pertenencia, existencia, entre otros y obtener una de dos respuestas, Verdadero o Falso lo cual es una expresion booleana."
   ]
  },
  {
   "cell_type": "markdown",
   "id": "adf98b7a",
   "metadata": {},
   "source": [
    "En las siguientes sentencias se evalua igualdades o desigualdades entre números."
   ]
  },
  {
   "cell_type": "code",
   "execution_count": 1,
   "id": "26d747b2",
   "metadata": {},
   "outputs": [
    {
     "name": "stdout",
     "output_type": "stream",
     "text": [
      "10 > 9 is: True\n",
      "10 >= 9 is: True\n",
      "10 == 9 is: False\n",
      "10 <= 9 is: False\n",
      "10 == 10 is: True\n"
     ]
    }
   ],
   "source": [
    "print(\"10 > 9 is:\", 10>9)\n",
    "print(\"10 >= 9 is:\", 10>=9)\n",
    "print(\"10 == 9 is:\", 10==9), #Para realizar comparaciones, se pone dos =\n",
    "print(\"10 <= 9 is:\", 10<=9)\n",
    "print(\"10 == 10 is:\", 10==10)"
   ]
  },
  {
   "cell_type": "markdown",
   "id": "a036699a",
   "metadata": {},
   "source": [
    "**2. Operadores lógicos**"
   ]
  },
  {
   "cell_type": "markdown",
   "id": "4edb1245",
   "metadata": {},
   "source": [
    "Los operadores lógicos utilizan \"or\" (unión de conjuntos, basta con que solo 1 se cumpla) y \"and\" (intersección, ambos deben cumplirse) para combinar sentencias condicionales."
   ]
  },
  {
   "cell_type": "code",
   "execution_count": 2,
   "id": "2664c1f1",
   "metadata": {},
   "outputs": [
    {
     "name": "stdout",
     "output_type": "stream",
     "text": [
      "not True is: False\n",
      "1<5 or 1>3 is: True\n",
      "1<5 and 1>3 is: False\n",
      "not(1<5 and 1>3) is: True\n"
     ]
    }
   ],
   "source": [
    "print(\"not True is:\", not True)\n",
    "print(\"1<5 or 1>3 is:\", 1<5 or 1>3)\n",
    "print(\"1<5 and 1>3 is:\", 1<5 and 1>3)\n",
    "print(\"not(1<5 and 1>3) is:\", not (1<5 and 1>3)) #negación, no es, es falso"
   ]
  },
  {
   "cell_type": "markdown",
   "id": "72248391",
   "metadata": {},
   "source": [
    "**3. Identidad**"
   ]
  },
  {
   "cell_type": "markdown",
   "id": "92cf700f",
   "metadata": {},
   "source": [
    "Utilizamos \"is\" para evaluar si un objeto es identico a otro; no solo en términos de su valor nominal, sino también en base a sus propiedades."
   ]
  },
  {
   "cell_type": "code",
   "execution_count": 6,
   "id": "3549dafa",
   "metadata": {
    "scrolled": false
   },
   "outputs": [
    {
     "name": "stdout",
     "output_type": "stream",
     "text": [
      "10 is 10. is: False\n",
      "10 is not 10. is: True\n"
     ]
    },
    {
     "name": "stderr",
     "output_type": "stream",
     "text": [
      "<>:1: SyntaxWarning: \"is\" with a literal. Did you mean \"==\"?\n",
      "<>:2: SyntaxWarning: \"is not\" with a literal. Did you mean \"!=\"?\n",
      "<>:1: SyntaxWarning: \"is\" with a literal. Did you mean \"==\"?\n",
      "<>:2: SyntaxWarning: \"is not\" with a literal. Did you mean \"!=\"?\n",
      "<ipython-input-6-0c2511192558>:1: SyntaxWarning: \"is\" with a literal. Did you mean \"==\"?\n",
      "  print(\"10 is 10. is:\", 10 is 10.)\n",
      "<ipython-input-6-0c2511192558>:2: SyntaxWarning: \"is not\" with a literal. Did you mean \"!=\"?\n",
      "  print(\"10 is not 10. is:\", 10 is not 10.)\n"
     ]
    }
   ],
   "source": [
    "print(\"10 is 10. is:\", 10 is 10.)\n",
    "print(\"10 is not 10. is:\", 10 is not 10.)"
   ]
  },
  {
   "cell_type": "markdown",
   "id": "17344665",
   "metadata": {},
   "source": [
    "### 4. Membresía"
   ]
  },
  {
   "cell_type": "markdown",
   "id": "c5c8af9f",
   "metadata": {},
   "source": [
    "Utilizamos \"is\" para evaluar si un objeto es identico a otro no solo en terminos de su valor nominal sino tambien en base a sus propiedades."
   ]
  },
  {
   "cell_type": "code",
   "execution_count": 7,
   "id": "b8c728b0",
   "metadata": {},
   "outputs": [
    {
     "name": "stdout",
     "output_type": "stream",
     "text": [
      "10 in [9,10] is: True\n",
      "10 not in [9,10] is: False\n"
     ]
    }
   ],
   "source": [
    "print(\"10 in [9,10] is:\", 10 in [9,10]), #¿10 se encuentra en esta lista?\n",
    "print(\"10 not in [9,10] is:\", 10 not in [9,10])"
   ]
  },
  {
   "cell_type": "markdown",
   "id": "78fab228",
   "metadata": {},
   "source": [
    "### 5. Isinstance"
   ]
  },
  {
   "cell_type": "markdown",
   "id": "33668d90",
   "metadata": {},
   "source": [
    "La función isinstance() retorna el valor \"True\" cuando el objeto a evaluar es del tipo con el que se compara, y \"False\" si ocurre lo contrario."
   ]
  },
  {
   "cell_type": "code",
   "execution_count": 8,
   "id": "f36fbdef",
   "metadata": {},
   "outputs": [
    {
     "name": "stdout",
     "output_type": "stream",
     "text": [
      "Is 10 and integer?: True\n",
      "Is '10' a string?: True\n",
      "Is 10. a float?: True\n",
      "Is [] a list?: True\n",
      "Is {} a dictionary?: True\n",
      "Is (1,) a tuple?: True\n"
     ]
    }
   ],
   "source": [
    "print(\"Is 10 and integer?:\", isinstance(10,int))\n",
    "print(\"Is '10' a string?:\", isinstance(\"10\", str))\n",
    "print(\"Is 10. a float?:\", isinstance (10., float))\n",
    "print(\"Is [] a list?:\", isinstance([], list))\n",
    "print(\"Is {} a dictionary?:\", isinstance({}, dict))\n",
    "print(\"Is (1,) a tuple?:\", isinstance((1,), tuple))"
   ]
  },
  {
   "cell_type": "markdown",
   "id": "27c86104",
   "metadata": {},
   "source": [
    "### 6. Evaluate if an element is True or False"
   ]
  },
  {
   "cell_type": "code",
   "execution_count": 9,
   "id": "e438b90e",
   "metadata": {},
   "outputs": [
    {
     "name": "stdout",
     "output_type": "stream",
     "text": [
      "False False False False False False True False True True\n"
     ]
    }
   ],
   "source": [
    "#Evaluar si un elemento es True o False. Transformar variables a booleanos de manera automática\n",
    "print(\n",
    "bool(),\n",
    "bool([]),\n",
    "bool({}),\n",
    "bool(False),\n",
    "bool(\"\"),\n",
    "bool(0),\n",
    "bool(1),\n",
    "bool(None),\n",
    "bool(\"Hello\"),\n",
    "bool(15)\n",
    ")"
   ]
  },
  {
   "cell_type": "markdown",
   "id": "65cd8381",
   "metadata": {},
   "source": [
    "**7. Conditional, alternative, and chained conditional executions**"
   ]
  },
  {
   "cell_type": "markdown",
   "id": "2d0ffd93",
   "metadata": {},
   "source": [
    "Es posible realizar cierto tipo de ejecuciones con el comando if. Basicamente lo que buscamos es pedir a Python que ejecute una sentencia si una condición se cumple. Adicionalmente, podemos incluir ejecuciones alternativas con el comando \"elif\" y \"else\" si es que una condición no se cumple."
   ]
  },
  {
   "cell_type": "code",
   "execution_count": 10,
   "id": "0297372c",
   "metadata": {},
   "outputs": [
    {
     "name": "stdout",
     "output_type": "stream",
     "text": [
      "x es menor que y\n",
      "x es menor que y\n",
      "x es menor que y\n"
     ]
    }
   ],
   "source": [
    "x=3\n",
    "y=5\n",
    "\n",
    "#Condiciones\n",
    "if x<y:\n",
    "    print(\"x es menor que y\")\n",
    "\n",
    "#Alternativas\n",
    "if x < y:\n",
    "    print(\"x es menor que y\")\n",
    "else: \n",
    "    print(\"x es mayor que y\"), #else: Si no se cumple el if, le estoy dicendo a python que print esto\n",
    "\n",
    "#Condiciones en cadena\n",
    "if x<y:\n",
    "    print(\"x es menor que y\")\n",
    "elif x > y:\n",
    "    print(\"x es major que y\"), #si no se cumple if, pasamos al segundo caso: elif\n",
    "    \n",
    "else:\n",
    "    print(\"x e y deberían ser iguales\"), #si no se cumple ni el primero ni el segundo: else"
   ]
  },
  {
   "cell_type": "code",
   "execution_count": 12,
   "id": "7c59f40d",
   "metadata": {
    "scrolled": true
   },
   "outputs": [
    {
     "name": "stdout",
     "output_type": "stream",
     "text": [
      "x es mayor que y\n",
      "x es major que y\n"
     ]
    }
   ],
   "source": [
    "x=6\n",
    "y=5\n",
    "\n",
    "if x<y:\n",
    "    print(\"x es menor que y\"), #No tiene sentido imprimirlo \n",
    "\n",
    "if x < y:\n",
    "    print(\"x es menor que y\")\n",
    "else: \n",
    "    print(\"x es mayor que y\"), #imprime el else\n",
    "    \n",
    "if x<y:\n",
    "    print(\"x es menor que y\")\n",
    "elif x > y:\n",
    "    print(\"x es major que y\"), #imprime el elif\n",
    "else:\n",
    "    print(\"x e y deberían ser iguales\")"
   ]
  },
  {
   "cell_type": "code",
   "execution_count": 13,
   "id": "ff097cdc",
   "metadata": {},
   "outputs": [
    {
     "name": "stdout",
     "output_type": "stream",
     "text": [
      "x es mayor que y\n",
      "x e y deberían ser iguales\n"
     ]
    }
   ],
   "source": [
    "x=5\n",
    "y=5\n",
    "\n",
    "if x<y:\n",
    "    print(\"x es menor que y\"), #No tiene sentido imprimirlo \n",
    "\n",
    "if x < y:\n",
    "    print(\"x es menor que y\")\n",
    "else: \n",
    "    print(\"x es mayor que y\"), #imprime ni el else aunque no tenga sentido, para ello se usa la función else:\n",
    "    \n",
    "if x<y:\n",
    "    print(\"x es menor que y\")\n",
    "elif x > y:\n",
    "    print(\"x es major que y\"), \n",
    "else:\n",
    "    print(\"x e y deberían ser iguales\"), #imprime el else"
   ]
  },
  {
   "cell_type": "markdown",
   "id": "df95beb9",
   "metadata": {},
   "source": [
    "**8. Nested if-else statement**"
   ]
  },
  {
   "cell_type": "markdown",
   "id": "9833529c",
   "metadata": {},
   "source": [
    "La idea aquí es que se pueden incluir jerarquías en los else if statements y anidar if statements dentro de otros. Anidados: se encuentran dentro de otro else/if statements en una jerarquía superior."
   ]
  },
  {
   "cell_type": "code",
   "execution_count": 14,
   "id": "fc4e87d6",
   "metadata": {},
   "outputs": [
    {
     "name": "stdout",
     "output_type": "stream",
     "text": [
      "Elevamos -10 al cuadrado y el resultado es 100\n"
     ]
    }
   ],
   "source": [
    "x=-10\n",
    "if x < 0:\n",
    "    xx=x**2\n",
    "    print(\"Elevamos\", x, \"al cuadrado y el resultado es\", xx), #xx es x al cuadrado\n",
    "else:\n",
    "    if x >0:\n",
    "        print(x, \"is a positive number\")\n",
    "    else:\n",
    "        print(x,\"es 0\")"
   ]
  },
  {
   "cell_type": "code",
   "execution_count": 15,
   "id": "711514c0",
   "metadata": {},
   "outputs": [
    {
     "name": "stdout",
     "output_type": "stream",
     "text": [
      "10 is a positive number\n"
     ]
    }
   ],
   "source": [
    "x=10\n",
    "if x < 0:\n",
    "    xx=x**2\n",
    "    print(\"Elevamos\", x, \"al cuadrado y el resultado es\", xx), \n",
    "else:\n",
    "    if x >0:\n",
    "        print(x, \"is a positive number\")\n",
    "    else:\n",
    "        print(x,\"es 0\")"
   ]
  },
  {
   "cell_type": "code",
   "execution_count": 16,
   "id": "0a462cc5",
   "metadata": {},
   "outputs": [
    {
     "name": "stdout",
     "output_type": "stream",
     "text": [
      "0 es 0\n"
     ]
    }
   ],
   "source": [
    "x=0\n",
    "if x < 0:\n",
    "    xx=x**2\n",
    "    print(\"Elevamos\", x, \"al cuadrado y el resultado es\", xx), \n",
    "else:\n",
    "    if x >0:\n",
    "        print(x, \"is a positive number\")\n",
    "    else:\n",
    "        print(x,\"es 0\")"
   ]
  },
  {
   "cell_type": "code",
   "execution_count": 18,
   "id": "b01ce100",
   "metadata": {},
   "outputs": [
    {
     "name": "stdout",
     "output_type": "stream",
     "text": [
      "María está en nameList\n"
     ]
    }
   ],
   "source": [
    "nameList= ['María', 'Jose', 'Edgar', 'Daniel']\n",
    "name1= 'María'\n",
    "name2='Jose'\n",
    "\n",
    "if name1 in nameList:\n",
    "    print(name1, 'está en nameList')\n",
    "else:\n",
    "    if name2 in nameList:\n",
    "        print(name2, 'está en nameList')\n",
    "    elif not ((name1 in nameList) and not (name2 in nameList)):\n",
    "        print(name1, ' ni ', name2, 'esta en nameList')"
   ]
  },
  {
   "cell_type": "markdown",
   "id": "3c59de31",
   "metadata": {},
   "source": [
    "**9. Guardianes**"
   ]
  },
  {
   "cell_type": "markdown",
   "id": "bdce89e5",
   "metadata": {},
   "source": [
    "El manejo de excepciones permite habilitar el control de flujo al momento de programar y así detectar errores en caso de que el codigo se rompa. Usar try-except es la forma más común de manejar errores inesperados."
   ]
  },
  {
   "cell_type": "code",
   "execution_count": 19,
   "id": "caad2492",
   "metadata": {},
   "outputs": [
    {
     "name": "stdout",
     "output_type": "stream",
     "text": [
      "An exception occurred\n"
     ]
    }
   ],
   "source": [
    "try:\n",
    "    print(xsdasdw) #No hemos creado la variable xsdasdw, por lo tanto el código debería imprimir la opción except. Try/guardián te ayuda a darte cuenta de un error\n",
    "except:\n",
    "    print(\"An exception occurred\")"
   ]
  },
  {
   "cell_type": "markdown",
   "id": "f1cb09df",
   "metadata": {},
   "source": [
    "**10. Sentencias de corto circuito**"
   ]
  },
  {
   "cell_type": "markdown",
   "id": "dec51904",
   "metadata": {},
   "source": [
    "Las sentencias de corto circuito evaluan las condiciones de izquierda a derecha y acaban cuando la primera de las condiciones no se cumple, o continua si la primera logra cumplirse."
   ]
  },
  {
   "cell_type": "code",
   "execution_count": 20,
   "id": "484c9df4",
   "metadata": {},
   "outputs": [],
   "source": [
    "if True and False:\n",
    "    print ('hello world')"
   ]
  },
  {
   "cell_type": "code",
   "execution_count": 21,
   "id": "63a5fbf4",
   "metadata": {},
   "outputs": [],
   "source": [
    "if False and True:\n",
    "    print ('hello world')"
   ]
  },
  {
   "cell_type": "markdown",
   "id": "26d87e67",
   "metadata": {},
   "source": [
    "Ya no es necesario evaluar todos los distintos elementos, esta sentencia evalúa solo el primer término."
   ]
  }
 ],
 "metadata": {
  "kernelspec": {
   "display_name": "Python 3",
   "language": "python",
   "name": "python3"
  },
  "language_info": {
   "codemirror_mode": {
    "name": "ipython",
    "version": 3
   },
   "file_extension": ".py",
   "mimetype": "text/x-python",
   "name": "python",
   "nbconvert_exporter": "python",
   "pygments_lexer": "ipython3",
   "version": "3.8.8"
  }
 },
 "nbformat": 4,
 "nbformat_minor": 5
}
